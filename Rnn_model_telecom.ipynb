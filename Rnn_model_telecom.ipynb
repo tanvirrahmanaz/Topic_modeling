{
  "nbformat": 4,
  "nbformat_minor": 0,
  "metadata": {
    "colab": {
      "provenance": [],
      "mount_file_id": "1Dn-FSlXioAPBbgcThp9tFNJy2FQsI7I2",
      "authorship_tag": "ABX9TyPF9AwevlIxP26iBb7wDtT4",
      "include_colab_link": true
    },
    "kernelspec": {
      "name": "python3",
      "display_name": "Python 3"
    },
    "language_info": {
      "name": "python"
    }
  },
  "cells": [
    {
      "cell_type": "markdown",
      "metadata": {
        "id": "view-in-github",
        "colab_type": "text"
      },
      "source": [
        "<a href=\"https://colab.research.google.com/github/tanvirrahmanaz/Topic_modeling/blob/main/Rnn_model_telecom.ipynb\" target=\"_parent\"><img src=\"https://colab.research.google.com/assets/colab-badge.svg\" alt=\"Open In Colab\"/></a>"
      ]
    },
    {
      "cell_type": "code",
      "execution_count": null,
      "metadata": {
        "colab": {
          "base_uri": "https://localhost:8080/"
        },
        "id": "5ay_N9kxb1Ux",
        "outputId": "b46bbb33-b4fd-4d9d-884b-7661b536761b"
      },
      "outputs": [
        {
          "output_type": "stream",
          "name": "stdout",
          "text": [
            "/usr/local/lib/python3.10/dist-packages/gdown/cli.py:138: FutureWarning: Option `--id` was deprecated in version 4.3.1 and will be removed in 5.0. You don't need to pass it anymore to use a file ID.\n",
            "  warnings.warn(\n",
            "Downloading...\n",
            "From: https://drive.google.com/uc?id=1JrDWooV51TLnO4lGGQNwmLWQCpO9aDQB\n",
            "To: /content/concatenated_file.csv\n",
            "100% 1.20M/1.20M [00:00<00:00, 120MB/s]\n"
          ]
        }
      ],
      "source": [
        "#import data set\n",
        "! gdown --id 1JrDWooV51TLnO4lGGQNwmLWQCpO9aDQB\n",
        "#import libbary\n",
        "import pandas as pd\n",
        "import numpy as np\n",
        "import tensorflow as tf\n",
        "from tensorflow.keras.preprocessing.text import Tokenizer\n",
        "from tensorflow.keras.preprocessing.sequence import pad_sequences\n",
        "from sklearn.model_selection import train_test_split"
      ]
    },
    {
      "cell_type": "code",
      "source": [
        "!pip install bnlp_toolkit"
      ],
      "metadata": {
        "colab": {
          "base_uri": "https://localhost:8080/"
        },
        "id": "ONdZMsG78Ot7",
        "outputId": "1e12a093-e546-43a5-b276-5639ff4932e9"
      },
      "execution_count": null,
      "outputs": [
        {
          "output_type": "stream",
          "name": "stdout",
          "text": [
            "Collecting bnlp_toolkit\n",
            "  Downloading bnlp_toolkit-4.0.0-py3-none-any.whl (22 kB)\n",
            "Collecting sentencepiece (from bnlp_toolkit)\n",
            "  Downloading sentencepiece-0.1.99-cp310-cp310-manylinux_2_17_x86_64.manylinux2014_x86_64.whl (1.3 MB)\n",
            "\u001b[2K     \u001b[90m━━━━━━━━━━━━━━━━━━━━━━━━━━━━━━━━━━━━━━━━\u001b[0m \u001b[32m1.3/1.3 MB\u001b[0m \u001b[31m7.3 MB/s\u001b[0m eta \u001b[36m0:00:00\u001b[0m\n",
            "\u001b[?25hRequirement already satisfied: gensim in /usr/local/lib/python3.10/dist-packages (from bnlp_toolkit) (4.3.2)\n",
            "Requirement already satisfied: nltk in /usr/local/lib/python3.10/dist-packages (from bnlp_toolkit) (3.8.1)\n",
            "Requirement already satisfied: numpy in /usr/local/lib/python3.10/dist-packages (from bnlp_toolkit) (1.23.5)\n",
            "Requirement already satisfied: scipy in /usr/local/lib/python3.10/dist-packages (from bnlp_toolkit) (1.11.4)\n",
            "Collecting sklearn-crfsuite (from bnlp_toolkit)\n",
            "  Downloading sklearn_crfsuite-0.3.6-py2.py3-none-any.whl (12 kB)\n",
            "Requirement already satisfied: tqdm in /usr/local/lib/python3.10/dist-packages (from bnlp_toolkit) (4.66.1)\n",
            "Collecting ftfy (from bnlp_toolkit)\n",
            "  Downloading ftfy-6.1.3-py3-none-any.whl (53 kB)\n",
            "\u001b[2K     \u001b[90m━━━━━━━━━━━━━━━━━━━━━━━━━━━━━━━━━━━━━━━━\u001b[0m \u001b[32m53.4/53.4 kB\u001b[0m \u001b[31m7.9 MB/s\u001b[0m eta \u001b[36m0:00:00\u001b[0m\n",
            "\u001b[?25hCollecting emoji==1.7.0 (from bnlp_toolkit)\n",
            "  Downloading emoji-1.7.0.tar.gz (175 kB)\n",
            "\u001b[2K     \u001b[90m━━━━━━━━━━━━━━━━━━━━━━━━━━━━━━━━━━━━━━━━\u001b[0m \u001b[32m175.4/175.4 kB\u001b[0m \u001b[31m27.1 MB/s\u001b[0m eta \u001b[36m0:00:00\u001b[0m\n",
            "\u001b[?25h  Preparing metadata (setup.py) ... \u001b[?25l\u001b[?25hdone\n",
            "Requirement already satisfied: requests in /usr/local/lib/python3.10/dist-packages (from bnlp_toolkit) (2.31.0)\n",
            "Requirement already satisfied: wcwidth<0.3.0,>=0.2.12 in /usr/local/lib/python3.10/dist-packages (from ftfy->bnlp_toolkit) (0.2.13)\n",
            "Requirement already satisfied: smart-open>=1.8.1 in /usr/local/lib/python3.10/dist-packages (from gensim->bnlp_toolkit) (6.4.0)\n",
            "Requirement already satisfied: click in /usr/local/lib/python3.10/dist-packages (from nltk->bnlp_toolkit) (8.1.7)\n",
            "Requirement already satisfied: joblib in /usr/local/lib/python3.10/dist-packages (from nltk->bnlp_toolkit) (1.3.2)\n",
            "Requirement already satisfied: regex>=2021.8.3 in /usr/local/lib/python3.10/dist-packages (from nltk->bnlp_toolkit) (2023.6.3)\n",
            "Requirement already satisfied: charset-normalizer<4,>=2 in /usr/local/lib/python3.10/dist-packages (from requests->bnlp_toolkit) (3.3.2)\n",
            "Requirement already satisfied: idna<4,>=2.5 in /usr/local/lib/python3.10/dist-packages (from requests->bnlp_toolkit) (3.6)\n",
            "Requirement already satisfied: urllib3<3,>=1.21.1 in /usr/local/lib/python3.10/dist-packages (from requests->bnlp_toolkit) (2.0.7)\n",
            "Requirement already satisfied: certifi>=2017.4.17 in /usr/local/lib/python3.10/dist-packages (from requests->bnlp_toolkit) (2023.11.17)\n",
            "Collecting python-crfsuite>=0.8.3 (from sklearn-crfsuite->bnlp_toolkit)\n",
            "  Downloading python_crfsuite-0.9.10-cp310-cp310-manylinux_2_17_x86_64.manylinux2014_x86_64.whl (1.1 MB)\n",
            "\u001b[2K     \u001b[90m━━━━━━━━━━━━━━━━━━━━━━━━━━━━━━━━━━━━━━━━\u001b[0m \u001b[32m1.1/1.1 MB\u001b[0m \u001b[31m52.8 MB/s\u001b[0m eta \u001b[36m0:00:00\u001b[0m\n",
            "\u001b[?25hRequirement already satisfied: six in /usr/local/lib/python3.10/dist-packages (from sklearn-crfsuite->bnlp_toolkit) (1.16.0)\n",
            "Requirement already satisfied: tabulate in /usr/local/lib/python3.10/dist-packages (from sklearn-crfsuite->bnlp_toolkit) (0.9.0)\n",
            "Building wheels for collected packages: emoji\n",
            "  Building wheel for emoji (setup.py) ... \u001b[?25l\u001b[?25hdone\n",
            "  Created wheel for emoji: filename=emoji-1.7.0-py3-none-any.whl size=171033 sha256=154c1253bf0f0775816bc741337f3b1dd60d0c3e6bad1258dae39d90f219150b\n",
            "  Stored in directory: /root/.cache/pip/wheels/31/8a/8c/315c9e5d7773f74b33d5ed33f075b49c6eaeb7cedbb86e2cf8\n",
            "Successfully built emoji\n",
            "Installing collected packages: sentencepiece, python-crfsuite, emoji, sklearn-crfsuite, ftfy, bnlp_toolkit\n",
            "Successfully installed bnlp_toolkit-4.0.0 emoji-1.7.0 ftfy-6.1.3 python-crfsuite-0.9.10 sentencepiece-0.1.99 sklearn-crfsuite-0.3.6\n"
          ]
        }
      ]
    },
    {
      "cell_type": "code",
      "source": [
        "from bnlp import CleanText\n",
        "\n",
        "clean_text = CleanText(\n",
        "   fix_unicode=True,\n",
        "   unicode_norm=True,\n",
        "   unicode_norm_form=\"NFKC\",\n",
        "   remove_url=True,\n",
        "   remove_email=True,\n",
        "   remove_emoji=True,\n",
        "   remove_number=True,\n",
        "   remove_digits=True,\n",
        "   remove_punct=True,\n",
        "   replace_with_url=\"<URL>\",\n",
        "   replace_with_email=\"<EMAIL>\",\n",
        "   replace_with_number=\"<NUMBER>\",\n",
        "   replace_with_digit=\"<DIGIT>\",\n",
        "   replace_with_punct = \"<PUNC>\"\n",
        ")\n",
        "\n",
        "input_text = \"আমার সাদা , মনে কোন কালো দাগ নেই,বুঝছো?<🤣\"\n",
        "clean_text = clean_text(input_text)\n",
        "print(clean_text)"
      ],
      "metadata": {
        "id": "qY0GqTgr8NnD"
      },
      "execution_count": null,
      "outputs": []
    },
    {
      "cell_type": "code",
      "source": [
        "from bnlp import BengaliCorpus as corpus\n",
        "\n",
        "print(corpus.stopwords)\n",
        "print(corpus.punctuations)\n",
        "print(corpus.letters)\n",
        "print(corpus.digits)\n",
        "print(corpus.vowels)"
      ],
      "metadata": {
        "colab": {
          "base_uri": "https://localhost:8080/"
        },
        "id": "z2LKRHCaD127",
        "outputId": "7e401685-10e1-4bfd-a387-c0f4dba0a7a7"
      },
      "execution_count": null,
      "outputs": [
        {
          "output_type": "stream",
          "name": "stdout",
          "text": [
            "['অতএব', 'অথচ', 'অথবা', 'অনুযায়ী', 'অনেক', 'অনেকে', 'অনেকেই', 'অন্তত', 'অন্য', 'অবধি', 'অবশ্য', 'অর্থাত', 'আই', 'আগামী', 'আগে', 'আগেই', 'আছে', 'আজ', 'আদ্যভাগে', 'আপনার', 'আপনি', 'আবার', 'আমরা', 'আমাকে', 'আমাদের', 'আমার', 'আমি', 'আর', 'আরও', 'ই', 'ইত্যাদি', 'ইহা', 'উচিত', 'উত্তর', 'উনি', 'উপর', 'উপরে', 'এ', 'এঁদের', 'এঁরা', 'এই', 'একই', 'একটি', 'একবার', 'একে', 'এক্', 'এখন', 'এখনও', 'এখানে', 'এখানেই', 'এটা', 'এটাই', 'এটি', 'এত', 'এতটাই', 'এতে', 'এদের', 'এব', 'এবং', 'এবার', 'এমন', 'এমনকী', 'এমনি', 'এর', 'এরা', 'এল', 'এস', 'এসে', 'ঐ', 'ও', 'ওঁদের', 'ওঁর', 'ওঁরা', 'ওই', 'ওকে', 'ওখানে', 'ওদের', 'ওর', 'ওরা', 'কখনও', 'কত', 'কবে', 'কমনে', 'কয়েক', 'কয়েকটি', 'করছে', 'করছেন', 'করতে', 'করবে', 'করবেন', 'করলে', 'করলেন', 'করা', 'করাই', 'করায়', 'করার', 'করি', 'করিতে', 'করিয়া', 'করিয়ে', 'করে', 'করেই', 'করেছিলেন', 'করেছে', 'করেছেন', 'করেন', 'কাউকে', 'কাছ', 'কাছে', 'কাজ', 'কাজে', 'কারও', 'কারণ', 'কি', 'কিংবা', 'কিছু', 'কিছুই', 'কিন্তু', 'কী', 'কে', 'কেউ', 'কেউই', 'কেখা', 'কেন', 'কোটি', 'কোন', 'কোনও', 'কোনো', 'ক্ষেত্রে', 'কয়েক', 'খুব', 'গিয়ে', 'গিয়েছে', 'গিয়ে', 'গুলি', 'গেছে', 'গেল', 'গেলে', 'গোটা', 'চলে', 'চান', 'চায়', 'চার', 'চালু', 'চেয়ে', 'চেষ্টা', 'ছাড়া', 'ছাড়াও', 'ছিল', 'ছিলেন', 'জন', 'জনকে', 'জনের', 'জন্য', 'জন্যওজে', 'জানতে', 'জানা', 'জানানো', 'জানায়', 'জানিয়ে', 'জানিয়েছে', 'জে', 'জ্নজন', 'টি', 'ঠিক', 'তখন', 'তত', 'তথা', 'তবু', 'তবে', 'তা', 'তাঁকে', 'তাঁদের', 'তাঁর', 'তাঁরা', 'তাঁাহারা', 'তাই', 'তাও', 'তাকে', 'তাতে', 'তাদের', 'তার', 'তারপর', 'তারা', 'তারৈ', 'তাহলে', 'তাহা', 'তাহাতে', 'তাহার', 'তিনঐ', 'তিনি', 'তিনিও', 'তুমি', 'তুলে', 'তেমন', 'তো', 'তোমার', 'থাকবে', 'থাকবেন', 'থাকা', 'থাকায়', 'থাকে', 'থাকেন', 'থেকে', 'থেকেই', 'থেকেও', 'দিকে', 'দিতে', 'দিন', 'দিয়ে', 'দিয়েছে', 'দিয়েছেন', 'দিলেন', 'দু', 'দুই', 'দুটি', 'দুটো', 'দেওয়া', 'দেওয়ার', 'দেওয়া', 'দেখতে', 'দেখা', 'দেখে', 'দেন', 'দেয়', 'দ্বারা', 'ধরা', 'ধরে', 'ধামার', 'নতুন', 'নয়', 'না', 'নাই', 'নাকি', 'নাগাদ', 'নানা', 'নিজে', 'নিজেই', 'নিজেদের', 'নিজের', 'নিতে', 'নিয়ে', 'নিয়ে', 'নেই', 'নেওয়া', 'নেওয়ার', 'নেওয়া', 'নয়', 'পক্ষে', 'পর', 'পরে', 'পরেই', 'পরেও', 'পর্যন্ত', 'পাওয়া', 'পাচ', 'পারি', 'পারে', 'পারেন', 'পি', 'পেয়ে', 'পেয়্র্', 'প্রতি', 'প্রথম', 'প্রভৃতি', 'প্রযন্ত', 'প্রাথমিক', 'প্রায়', 'প্রায়', 'ফলে', 'ফিরে', 'ফের', 'বক্তব্য', 'বদলে', 'বন', 'বরং', 'বলতে', 'বলল', 'বললেন', 'বলা', 'বলে', 'বলেছেন', 'বলেন', 'বসে', 'বহু', 'বা', 'বাদে', 'বার', 'বি', 'বিনা', 'বিভিন্ন', 'বিশেষ', 'বিষয়টি', 'বেশ', 'বেশি', 'ব্যবহার', 'ব্যাপারে', 'ভাবে', 'ভাবেই', 'মতো', 'মতোই', 'মধ্যভাগে', 'মধ্যে', 'মধ্যেই', 'মধ্যেও', 'মনে', 'মাত্র', 'মাধ্যমে', 'মোট', 'মোটেই', 'যখন', 'যত', 'যতটা', 'যথেষ্ট', 'যদি', 'যদিও', 'যা', 'যাঁর', 'যাঁরা', 'যাওয়া', 'যাওয়ার', 'যাওয়া', 'যাকে', 'যাচ্ছে', 'যাতে', 'যাদের', 'যান', 'যাবে', 'যায়', 'যার', 'যারা', 'যিনি', 'যে', 'যেখানে', 'যেতে', 'যেন', 'যেমন', 'র', 'রকম', 'রয়েছে', 'রাখা', 'রেখে', 'লক্ষ', 'শুধু', 'শুরু', 'সঙ্গে', 'সঙ্গেও', 'সব', 'সবার', 'সমস্ত', 'সম্প্রতি', 'সহ', 'সহিত', 'সাধারণ', 'সামনে', 'সি', 'সুতরাং', 'সে', 'সেই', 'সেখান', 'সেখানে', 'সেটা', 'সেটাই', 'সেটাও', 'সেটি', 'স্পষ্ট', 'স্বয়ং', 'হইতে', 'হইবে', 'হইয়া', 'হওয়া', 'হওয়ায়', 'হওয়ার', 'হচ্ছে', 'হত', 'হতে', 'হতেই', 'হন', 'হবে', 'হবেন', 'হয়', 'হয়তো', 'হয়নি', 'হয়ে', 'হয়েই', 'হয়েছিল', 'হয়েছে', 'হয়েছেন', 'হল', 'হলে', 'হলেই', 'হলেও', 'হলো', 'হাজার', 'হিসাবে', 'হৈলে', 'হোক', 'হয়']\n",
            "!\"#$%&'()*+,-./:;<=>?@[\\]^_`{|}~।ঃ\n",
            "অআইঈউঊঋএঐওঔকখগঘঙচছজঝঞটঠডঢণতথদধনপফবভমযরলশষসহড়ঢ়য়ৎংঃঁ\n",
            "০১২৩৪৫৬৭৮৯\n",
            "া ি ী ু ৃ ে ৈ ো ৌ\n"
          ]
        }
      ]
    },
    {
      "cell_type": "code",
      "source": [
        "df = pd.read_csv(\"/content/concatenated_file.csv\")"
      ],
      "metadata": {
        "id": "LzY5Tj59cJMz"
      },
      "execution_count": null,
      "outputs": []
    },
    {
      "cell_type": "code",
      "source": [
        "print(df.head(4)), df[\"labels\"].value_counts()"
      ],
      "metadata": {
        "colab": {
          "base_uri": "https://localhost:8080/"
        },
        "id": "P5b1hivVcO3S",
        "outputId": "42048ec7-db7d-495d-ed5e-7f66c383df60"
      },
      "execution_count": null,
      "outputs": [
        {
          "output_type": "stream",
          "name": "stdout",
          "text": [
            "                                       comments labels\n",
            "0                  Network er jei obostha r sim    CNI\n",
            "1            23 টাকায় ৩ জিবি কত বার নেওয়া যাবে?     DP\n",
            "2  কারেন্ট চলে গেলে আপনাদের নেটওয়ার্ক চলে যায়    CNI\n",
            "3     01521443719 সিমে নিবন্ধন সমস্যা , কি করি?     PR\n"
          ]
        },
        {
          "output_type": "execute_result",
          "data": {
            "text/plain": [
              "(None,\n",
              " CNI     1961\n",
              " PR      1887\n",
              " DP      1376\n",
              " NS       634\n",
              " AV       513\n",
              " IS       214\n",
              " MFS      180\n",
              " CCI       62\n",
              " pr         1\n",
              " CNi        1\n",
              " cNI        1\n",
              " CCNI       1\n",
              " Name: labels, dtype: int64)"
            ]
          },
          "metadata": {},
          "execution_count": 21
        }
      ]
    },
    {
      "cell_type": "markdown",
      "source": [
        "#Apply Regular Expression"
      ],
      "metadata": {
        "id": "gIZu8pMo40KT"
      }
    },
    {
      "cell_type": "code",
      "source": [
        "# Define regex pattern\n",
        "pattern = r'[^\\w\\s]'\n",
        "\n",
        "# Apply regex pattern to text column\n",
        "df[\"comments\"] = df['comments'].str.replace(pattern, '')"
      ],
      "metadata": {
        "id": "XpdFekdNcUca"
      },
      "execution_count": null,
      "outputs": []
    },
    {
      "cell_type": "code",
      "source": [
        "df"
      ],
      "metadata": {
        "colab": {
          "base_uri": "https://localhost:8080/",
          "height": 423
        },
        "id": "sQFdUziEcwMi",
        "outputId": "c6818718-6a13-4fad-e195-4ebd541a6515"
      },
      "execution_count": null,
      "outputs": [
        {
          "output_type": "execute_result",
          "data": {
            "text/plain": [
              "                                               comments labels\n",
              "0                          Network er jei obostha r sim    CNI\n",
              "1                              23 টকয় ৩ জব কত বর নওয় যব     DP\n",
              "2                         করনট চল গল আপনদর নটওযরক চল যয    CNI\n",
              "3                       01521443719 সম নবনধন সমসয  ক কর     PR\n",
              "4                      করনট চল গল নট থক ন তর আবর অফর নব    CNI\n",
              "...                                                 ...    ...\n",
              "6826  আমর একট গরমন থরজ সম আছ সট গরমন কসটমর কযর রপলস ...    MFS\n",
              "6827  5gb 130 minutes 130 taka \\nTk nice net minute ...     DP\n",
              "6828                   কসটমর সরভস পতও পরচর সমসযয পডত হয়    CNI\n",
              "6829                      নটওয়রকর বরতমন অবসথ খভই খরপ ৷৷   CCNI\n",
              "6830             Grameen thika Airtel a aste koto lagbe     PR\n",
              "\n",
              "[6831 rows x 2 columns]"
            ],
            "text/html": [
              "\n",
              "  <div id=\"df-7e2d12f5-34c1-48d7-aa1d-fe294c3e2dde\" class=\"colab-df-container\">\n",
              "    <div>\n",
              "<style scoped>\n",
              "    .dataframe tbody tr th:only-of-type {\n",
              "        vertical-align: middle;\n",
              "    }\n",
              "\n",
              "    .dataframe tbody tr th {\n",
              "        vertical-align: top;\n",
              "    }\n",
              "\n",
              "    .dataframe thead th {\n",
              "        text-align: right;\n",
              "    }\n",
              "</style>\n",
              "<table border=\"1\" class=\"dataframe\">\n",
              "  <thead>\n",
              "    <tr style=\"text-align: right;\">\n",
              "      <th></th>\n",
              "      <th>comments</th>\n",
              "      <th>labels</th>\n",
              "    </tr>\n",
              "  </thead>\n",
              "  <tbody>\n",
              "    <tr>\n",
              "      <th>0</th>\n",
              "      <td>Network er jei obostha r sim</td>\n",
              "      <td>CNI</td>\n",
              "    </tr>\n",
              "    <tr>\n",
              "      <th>1</th>\n",
              "      <td>23 টকয় ৩ জব কত বর নওয় যব</td>\n",
              "      <td>DP</td>\n",
              "    </tr>\n",
              "    <tr>\n",
              "      <th>2</th>\n",
              "      <td>করনট চল গল আপনদর নটওযরক চল যয</td>\n",
              "      <td>CNI</td>\n",
              "    </tr>\n",
              "    <tr>\n",
              "      <th>3</th>\n",
              "      <td>01521443719 সম নবনধন সমসয  ক কর</td>\n",
              "      <td>PR</td>\n",
              "    </tr>\n",
              "    <tr>\n",
              "      <th>4</th>\n",
              "      <td>করনট চল গল নট থক ন তর আবর অফর নব</td>\n",
              "      <td>CNI</td>\n",
              "    </tr>\n",
              "    <tr>\n",
              "      <th>...</th>\n",
              "      <td>...</td>\n",
              "      <td>...</td>\n",
              "    </tr>\n",
              "    <tr>\n",
              "      <th>6826</th>\n",
              "      <td>আমর একট গরমন থরজ সম আছ সট গরমন কসটমর কযর রপলস ...</td>\n",
              "      <td>MFS</td>\n",
              "    </tr>\n",
              "    <tr>\n",
              "      <th>6827</th>\n",
              "      <td>5gb 130 minutes 130 taka \\nTk nice net minute ...</td>\n",
              "      <td>DP</td>\n",
              "    </tr>\n",
              "    <tr>\n",
              "      <th>6828</th>\n",
              "      <td>কসটমর সরভস পতও পরচর সমসযয পডত হয়</td>\n",
              "      <td>CNI</td>\n",
              "    </tr>\n",
              "    <tr>\n",
              "      <th>6829</th>\n",
              "      <td>নটওয়রকর বরতমন অবসথ খভই খরপ ৷৷</td>\n",
              "      <td>CCNI</td>\n",
              "    </tr>\n",
              "    <tr>\n",
              "      <th>6830</th>\n",
              "      <td>Grameen thika Airtel a aste koto lagbe</td>\n",
              "      <td>PR</td>\n",
              "    </tr>\n",
              "  </tbody>\n",
              "</table>\n",
              "<p>6831 rows × 2 columns</p>\n",
              "</div>\n",
              "    <div class=\"colab-df-buttons\">\n",
              "\n",
              "  <div class=\"colab-df-container\">\n",
              "    <button class=\"colab-df-convert\" onclick=\"convertToInteractive('df-7e2d12f5-34c1-48d7-aa1d-fe294c3e2dde')\"\n",
              "            title=\"Convert this dataframe to an interactive table.\"\n",
              "            style=\"display:none;\">\n",
              "\n",
              "  <svg xmlns=\"http://www.w3.org/2000/svg\" height=\"24px\" viewBox=\"0 -960 960 960\">\n",
              "    <path d=\"M120-120v-720h720v720H120Zm60-500h600v-160H180v160Zm220 220h160v-160H400v160Zm0 220h160v-160H400v160ZM180-400h160v-160H180v160Zm440 0h160v-160H620v160ZM180-180h160v-160H180v160Zm440 0h160v-160H620v160Z\"/>\n",
              "  </svg>\n",
              "    </button>\n",
              "\n",
              "  <style>\n",
              "    .colab-df-container {\n",
              "      display:flex;\n",
              "      gap: 12px;\n",
              "    }\n",
              "\n",
              "    .colab-df-convert {\n",
              "      background-color: #E8F0FE;\n",
              "      border: none;\n",
              "      border-radius: 50%;\n",
              "      cursor: pointer;\n",
              "      display: none;\n",
              "      fill: #1967D2;\n",
              "      height: 32px;\n",
              "      padding: 0 0 0 0;\n",
              "      width: 32px;\n",
              "    }\n",
              "\n",
              "    .colab-df-convert:hover {\n",
              "      background-color: #E2EBFA;\n",
              "      box-shadow: 0px 1px 2px rgba(60, 64, 67, 0.3), 0px 1px 3px 1px rgba(60, 64, 67, 0.15);\n",
              "      fill: #174EA6;\n",
              "    }\n",
              "\n",
              "    .colab-df-buttons div {\n",
              "      margin-bottom: 4px;\n",
              "    }\n",
              "\n",
              "    [theme=dark] .colab-df-convert {\n",
              "      background-color: #3B4455;\n",
              "      fill: #D2E3FC;\n",
              "    }\n",
              "\n",
              "    [theme=dark] .colab-df-convert:hover {\n",
              "      background-color: #434B5C;\n",
              "      box-shadow: 0px 1px 3px 1px rgba(0, 0, 0, 0.15);\n",
              "      filter: drop-shadow(0px 1px 2px rgba(0, 0, 0, 0.3));\n",
              "      fill: #FFFFFF;\n",
              "    }\n",
              "  </style>\n",
              "\n",
              "    <script>\n",
              "      const buttonEl =\n",
              "        document.querySelector('#df-7e2d12f5-34c1-48d7-aa1d-fe294c3e2dde button.colab-df-convert');\n",
              "      buttonEl.style.display =\n",
              "        google.colab.kernel.accessAllowed ? 'block' : 'none';\n",
              "\n",
              "      async function convertToInteractive(key) {\n",
              "        const element = document.querySelector('#df-7e2d12f5-34c1-48d7-aa1d-fe294c3e2dde');\n",
              "        const dataTable =\n",
              "          await google.colab.kernel.invokeFunction('convertToInteractive',\n",
              "                                                    [key], {});\n",
              "        if (!dataTable) return;\n",
              "\n",
              "        const docLinkHtml = 'Like what you see? Visit the ' +\n",
              "          '<a target=\"_blank\" href=https://colab.research.google.com/notebooks/data_table.ipynb>data table notebook</a>'\n",
              "          + ' to learn more about interactive tables.';\n",
              "        element.innerHTML = '';\n",
              "        dataTable['output_type'] = 'display_data';\n",
              "        await google.colab.output.renderOutput(dataTable, element);\n",
              "        const docLink = document.createElement('div');\n",
              "        docLink.innerHTML = docLinkHtml;\n",
              "        element.appendChild(docLink);\n",
              "      }\n",
              "    </script>\n",
              "  </div>\n",
              "\n",
              "\n",
              "<div id=\"df-18104eeb-8483-4726-84cd-fb02c3252b7c\">\n",
              "  <button class=\"colab-df-quickchart\" onclick=\"quickchart('df-18104eeb-8483-4726-84cd-fb02c3252b7c')\"\n",
              "            title=\"Suggest charts.\"\n",
              "            style=\"display:none;\">\n",
              "\n",
              "<svg xmlns=\"http://www.w3.org/2000/svg\" height=\"24px\"viewBox=\"0 0 24 24\"\n",
              "     width=\"24px\">\n",
              "    <g>\n",
              "        <path d=\"M19 3H5c-1.1 0-2 .9-2 2v14c0 1.1.9 2 2 2h14c1.1 0 2-.9 2-2V5c0-1.1-.9-2-2-2zM9 17H7v-7h2v7zm4 0h-2V7h2v10zm4 0h-2v-4h2v4z\"/>\n",
              "    </g>\n",
              "</svg>\n",
              "  </button>\n",
              "\n",
              "<style>\n",
              "  .colab-df-quickchart {\n",
              "      --bg-color: #E8F0FE;\n",
              "      --fill-color: #1967D2;\n",
              "      --hover-bg-color: #E2EBFA;\n",
              "      --hover-fill-color: #174EA6;\n",
              "      --disabled-fill-color: #AAA;\n",
              "      --disabled-bg-color: #DDD;\n",
              "  }\n",
              "\n",
              "  [theme=dark] .colab-df-quickchart {\n",
              "      --bg-color: #3B4455;\n",
              "      --fill-color: #D2E3FC;\n",
              "      --hover-bg-color: #434B5C;\n",
              "      --hover-fill-color: #FFFFFF;\n",
              "      --disabled-bg-color: #3B4455;\n",
              "      --disabled-fill-color: #666;\n",
              "  }\n",
              "\n",
              "  .colab-df-quickchart {\n",
              "    background-color: var(--bg-color);\n",
              "    border: none;\n",
              "    border-radius: 50%;\n",
              "    cursor: pointer;\n",
              "    display: none;\n",
              "    fill: var(--fill-color);\n",
              "    height: 32px;\n",
              "    padding: 0;\n",
              "    width: 32px;\n",
              "  }\n",
              "\n",
              "  .colab-df-quickchart:hover {\n",
              "    background-color: var(--hover-bg-color);\n",
              "    box-shadow: 0 1px 2px rgba(60, 64, 67, 0.3), 0 1px 3px 1px rgba(60, 64, 67, 0.15);\n",
              "    fill: var(--button-hover-fill-color);\n",
              "  }\n",
              "\n",
              "  .colab-df-quickchart-complete:disabled,\n",
              "  .colab-df-quickchart-complete:disabled:hover {\n",
              "    background-color: var(--disabled-bg-color);\n",
              "    fill: var(--disabled-fill-color);\n",
              "    box-shadow: none;\n",
              "  }\n",
              "\n",
              "  .colab-df-spinner {\n",
              "    border: 2px solid var(--fill-color);\n",
              "    border-color: transparent;\n",
              "    border-bottom-color: var(--fill-color);\n",
              "    animation:\n",
              "      spin 1s steps(1) infinite;\n",
              "  }\n",
              "\n",
              "  @keyframes spin {\n",
              "    0% {\n",
              "      border-color: transparent;\n",
              "      border-bottom-color: var(--fill-color);\n",
              "      border-left-color: var(--fill-color);\n",
              "    }\n",
              "    20% {\n",
              "      border-color: transparent;\n",
              "      border-left-color: var(--fill-color);\n",
              "      border-top-color: var(--fill-color);\n",
              "    }\n",
              "    30% {\n",
              "      border-color: transparent;\n",
              "      border-left-color: var(--fill-color);\n",
              "      border-top-color: var(--fill-color);\n",
              "      border-right-color: var(--fill-color);\n",
              "    }\n",
              "    40% {\n",
              "      border-color: transparent;\n",
              "      border-right-color: var(--fill-color);\n",
              "      border-top-color: var(--fill-color);\n",
              "    }\n",
              "    60% {\n",
              "      border-color: transparent;\n",
              "      border-right-color: var(--fill-color);\n",
              "    }\n",
              "    80% {\n",
              "      border-color: transparent;\n",
              "      border-right-color: var(--fill-color);\n",
              "      border-bottom-color: var(--fill-color);\n",
              "    }\n",
              "    90% {\n",
              "      border-color: transparent;\n",
              "      border-bottom-color: var(--fill-color);\n",
              "    }\n",
              "  }\n",
              "</style>\n",
              "\n",
              "  <script>\n",
              "    async function quickchart(key) {\n",
              "      const quickchartButtonEl =\n",
              "        document.querySelector('#' + key + ' button');\n",
              "      quickchartButtonEl.disabled = true;  // To prevent multiple clicks.\n",
              "      quickchartButtonEl.classList.add('colab-df-spinner');\n",
              "      try {\n",
              "        const charts = await google.colab.kernel.invokeFunction(\n",
              "            'suggestCharts', [key], {});\n",
              "      } catch (error) {\n",
              "        console.error('Error during call to suggestCharts:', error);\n",
              "      }\n",
              "      quickchartButtonEl.classList.remove('colab-df-spinner');\n",
              "      quickchartButtonEl.classList.add('colab-df-quickchart-complete');\n",
              "    }\n",
              "    (() => {\n",
              "      let quickchartButtonEl =\n",
              "        document.querySelector('#df-18104eeb-8483-4726-84cd-fb02c3252b7c button');\n",
              "      quickchartButtonEl.style.display =\n",
              "        google.colab.kernel.accessAllowed ? 'block' : 'none';\n",
              "    })();\n",
              "  </script>\n",
              "</div>\n",
              "    </div>\n",
              "  </div>\n"
            ]
          },
          "metadata": {},
          "execution_count": 23
        }
      ]
    },
    {
      "cell_type": "markdown",
      "source": [
        "#Labels Value"
      ],
      "metadata": {
        "id": "sNSi1xnB45Ai"
      }
    },
    {
      "cell_type": "code",
      "source": [
        "labls = ['CNI','PR','DP','NS','AV','IS','MFS','CCI']\n",
        "# Remove specified values from the \"labels\" column\n",
        "df = df.loc[df['labels'].isin(labls)]"
      ],
      "metadata": {
        "id": "kqZrSy1hdP8q"
      },
      "execution_count": null,
      "outputs": []
    },
    {
      "cell_type": "code",
      "source": [
        "df['labels'].value_counts()"
      ],
      "metadata": {
        "colab": {
          "base_uri": "https://localhost:8080/"
        },
        "id": "epY63U2jdaKJ",
        "outputId": "0171749d-09d9-48bf-dbc9-27fc170f0b4a"
      },
      "execution_count": null,
      "outputs": [
        {
          "output_type": "execute_result",
          "data": {
            "text/plain": [
              "CNI    1961\n",
              "PR     1887\n",
              "DP     1376\n",
              "NS      634\n",
              "AV      513\n",
              "IS      214\n",
              "MFS     180\n",
              "CCI      62\n",
              "Name: labels, dtype: int64"
            ]
          },
          "metadata": {},
          "execution_count": 25
        }
      ]
    },
    {
      "cell_type": "markdown",
      "source": [
        "#Apply Tokenizer"
      ],
      "metadata": {
        "id": "RAF2sQKN5CDb"
      }
    },
    {
      "cell_type": "code",
      "source": [
        "tokenizer = Tokenizer()\n",
        "tokenizer.fit_on_texts(df[\"comments\"])"
      ],
      "metadata": {
        "id": "IcX22GGPdbGh"
      },
      "execution_count": null,
      "outputs": []
    },
    {
      "cell_type": "code",
      "source": [
        "x = tokenizer.texts_to_sequences(df[\"comments\"])"
      ],
      "metadata": {
        "id": "gnJCyACPdvvi"
      },
      "execution_count": null,
      "outputs": []
    },
    {
      "cell_type": "code",
      "source": [
        "x[1] , df[\"comments\"][0]"
      ],
      "metadata": {
        "colab": {
          "base_uri": "https://localhost:8080/"
        },
        "id": "JLgUmpDgdzES",
        "outputId": "f873ce8d-cf60-4e43-8a61-fe05b1c3c3ba"
      },
      "execution_count": null,
      "outputs": [
        {
          "output_type": "execute_result",
          "data": {
            "text/plain": [
              "([715, 95, 157, 23, 47, 152, 349, 78], 'Network er jei obostha r sim')"
            ]
          },
          "metadata": {},
          "execution_count": 28
        }
      ]
    },
    {
      "cell_type": "code",
      "source": [
        "type(x)"
      ],
      "metadata": {
        "colab": {
          "base_uri": "https://localhost:8080/"
        },
        "id": "0xjiGQN7YS4y",
        "outputId": "4b3aed9b-fccb-40fd-ae66-c24bffb8fe88"
      },
      "execution_count": null,
      "outputs": [
        {
          "output_type": "execute_result",
          "data": {
            "text/plain": [
              "list"
            ]
          },
          "metadata": {},
          "execution_count": 30
        }
      ]
    },
    {
      "cell_type": "code",
      "source": [
        "len(tokenizer.index_word)"
      ],
      "metadata": {
        "id": "sCGGaIVSd0Vq",
        "colab": {
          "base_uri": "https://localhost:8080/"
        },
        "outputId": "95f16e0f-491b-4f6e-b549-2abe27baa694"
      },
      "execution_count": null,
      "outputs": [
        {
          "output_type": "execute_result",
          "data": {
            "text/plain": [
              "9425"
            ]
          },
          "metadata": {},
          "execution_count": 10
        }
      ]
    },
    {
      "cell_type": "code",
      "source": [
        "x = pad_sequences(x)"
      ],
      "metadata": {
        "id": "IXklR8wQd6fC"
      },
      "execution_count": null,
      "outputs": []
    },
    {
      "cell_type": "code",
      "source": [
        "type(x)"
      ],
      "metadata": {
        "colab": {
          "base_uri": "https://localhost:8080/"
        },
        "id": "ygCi4ZRdfgMs",
        "outputId": "34ff8195-61cf-43f3-c039-fe50badb3d5c"
      },
      "execution_count": null,
      "outputs": [
        {
          "output_type": "execute_result",
          "data": {
            "text/plain": [
              "list"
            ]
          },
          "metadata": {},
          "execution_count": 31
        }
      ]
    },
    {
      "cell_type": "code",
      "source": [
        "x[0] , x.shape"
      ],
      "metadata": {
        "colab": {
          "base_uri": "https://localhost:8080/"
        },
        "id": "NwkK9ZfXeuV8",
        "outputId": "4d3d7cf5-3cd6-411f-853f-8607963d11dc"
      },
      "execution_count": null,
      "outputs": [
        {
          "output_type": "execute_result",
          "data": {
            "text/plain": [
              "(array([   0,    0,    0,    0,    0,    0,    0,    0,    0,    0,    0,\n",
              "           0,    0,    0,    0,    0,    0,    0,    0,    0,    0,    0,\n",
              "           0,    0,    0,    0,    0,    0,    0,    0,    0,    0,    0,\n",
              "           0,    0,    0,    0,    0,    0,    0,    0,    0,    0,    0,\n",
              "           0,    0,    0,    0,    0,    0,    0,    0,    0,    0,    0,\n",
              "           0,    0,    0,    0,    0,    0,    0,    0,    0,    0,    0,\n",
              "           0,    0,    0,    0,    0,    0,    0,    0,    0,    0,    0,\n",
              "           0,    0,    0,    0,    0,    0,    0,    0,    0,    0,    0,\n",
              "           0,    0,    0,    0,    0,    0,    0,    0,    0,    0,    0,\n",
              "           0,    0,    0,    0,    0,    0,    0,    0,    0,    0,    0,\n",
              "           0,    0,    0,    0,    0,    0,    0,    0,    0,   73,   69,\n",
              "        1630, 2242,  249,   33], dtype=int32),\n",
              " (6827, 125))"
            ]
          },
          "metadata": {},
          "execution_count": 12
        }
      ]
    },
    {
      "cell_type": "markdown",
      "source": [
        "#Convert Labels into Number"
      ],
      "metadata": {
        "id": "WzaUBCiO5Og0"
      }
    },
    {
      "cell_type": "code",
      "source": [
        "label_dict = {}\n",
        "unique_labels = df['labels'].unique()\n",
        "for index, label in enumerate(unique_labels):\n",
        "    label_dict[label] = index\n",
        "\n",
        "df['numerical_label'] = df['labels'].map(label_dict)"
      ],
      "metadata": {
        "id": "4NH_zVnDev1K"
      },
      "execution_count": null,
      "outputs": []
    },
    {
      "cell_type": "code",
      "source": [
        "unique_labels = df['labels'].unique()\n",
        "unique_labels"
      ],
      "metadata": {
        "colab": {
          "base_uri": "https://localhost:8080/"
        },
        "id": "YqhdvFsv4uOY",
        "outputId": "087309a8-f150-4a23-9aaa-1b429ef53304"
      },
      "execution_count": null,
      "outputs": [
        {
          "output_type": "execute_result",
          "data": {
            "text/plain": [
              "array(['CNI', 'DP', 'PR', 'AV', 'MFS', 'NS', 'CCI', 'IS'], dtype=object)"
            ]
          },
          "metadata": {},
          "execution_count": 15
        }
      ]
    },
    {
      "cell_type": "code",
      "source": [
        "df, unique_labels"
      ],
      "metadata": {
        "colab": {
          "base_uri": "https://localhost:8080/"
        },
        "id": "eP91brRAe0J6",
        "outputId": "6d2a6fab-76f2-46ca-b956-a609f9bb7dd2"
      },
      "execution_count": null,
      "outputs": [
        {
          "output_type": "execute_result",
          "data": {
            "text/plain": [
              "(                                               comments labels  \\\n",
              " 0                          Network er jei obostha r sim    CNI   \n",
              " 1                              23 টকয় ৩ জব কত বর নওয় যব     DP   \n",
              " 2                         করনট চল গল আপনদর নটওযরক চল যয    CNI   \n",
              " 3                       01521443719 সম নবনধন সমসয  ক কর     PR   \n",
              " 4                      করনট চল গল নট থক ন তর আবর অফর নব    CNI   \n",
              " ...                                                 ...    ...   \n",
              " 6825                       সটডনট সম ক নতন বকর অফ কর দসন     PR   \n",
              " 6826  আমর একট গরমন থরজ সম আছ সট গরমন কসটমর কযর রপলস ...    MFS   \n",
              " 6827  5gb 130 minutes 130 taka \\nTk nice net minute ...     DP   \n",
              " 6828                   কসটমর সরভস পতও পরচর সমসযয পডত হয়    CNI   \n",
              " 6830             Grameen thika Airtel a aste koto lagbe     PR   \n",
              " \n",
              "       numerical_label  \n",
              " 0                   0  \n",
              " 1                   1  \n",
              " 2                   0  \n",
              " 3                   2  \n",
              " 4                   0  \n",
              " ...               ...  \n",
              " 6825                2  \n",
              " 6826                4  \n",
              " 6827                1  \n",
              " 6828                0  \n",
              " 6830                2  \n",
              " \n",
              " [6827 rows x 3 columns],\n",
              " array(['CNI', 'DP', 'PR', 'AV', 'MFS', 'NS', 'CCI', 'IS'], dtype=object))"
            ]
          },
          "metadata": {},
          "execution_count": 16
        }
      ]
    },
    {
      "cell_type": "code",
      "source": [
        "df[\"numerical_label\"].value_counts(),df['labels'].value_counts()"
      ],
      "metadata": {
        "colab": {
          "base_uri": "https://localhost:8080/"
        },
        "id": "JHLjsVt-e4d6",
        "outputId": "42d5734c-0b74-45b9-982e-4bd848a6f64d"
      },
      "execution_count": null,
      "outputs": [
        {
          "output_type": "execute_result",
          "data": {
            "text/plain": [
              "(0    1961\n",
              " 2    1887\n",
              " 1    1376\n",
              " 5     634\n",
              " 3     513\n",
              " 7     214\n",
              " 4     180\n",
              " 6      62\n",
              " Name: numerical_label, dtype: int64,\n",
              " CNI    1961\n",
              " PR     1887\n",
              " DP     1376\n",
              " NS      634\n",
              " AV      513\n",
              " IS      214\n",
              " MFS     180\n",
              " CCI      62\n",
              " Name: labels, dtype: int64)"
            ]
          },
          "metadata": {},
          "execution_count": 17
        }
      ]
    },
    {
      "cell_type": "code",
      "source": [
        "  #x == padding comment\n",
        "  y = df[\"numerical_label\"]"
      ],
      "metadata": {
        "id": "EioUK1hHe5Ha"
      },
      "execution_count": null,
      "outputs": []
    },
    {
      "cell_type": "markdown",
      "source": [
        "#create LSTM model"
      ],
      "metadata": {
        "id": "Z__-VbLb5j1k"
      }
    },
    {
      "cell_type": "code",
      "source": [
        "model_lstm = tf.keras.Sequential([\n",
        "    tf.keras.layers.Embedding(input_dim=len(tokenizer.word_index) + 1, output_dim=100, input_length=x.shape[1]),\n",
        "    tf.keras.layers.LSTM(units=128),  # LSTM layer\n",
        "    tf.keras.layers.Dense(units=len(label_dict), activation='softmax')\n",
        "])\n",
        "model_lstm.compile(loss='sparse_categorical_crossentropy', optimizer='adam', metrics=['accuracy'])"
      ],
      "metadata": {
        "id": "IzG7C7vPIBLp"
      },
      "execution_count": null,
      "outputs": []
    },
    {
      "cell_type": "code",
      "source": [
        "import datetime\n",
        "log_dir = \"logs/lstm_final/\" + datetime.datetime.now().strftime(\"%Y%m%d-%H%M%S\")\n",
        "tensorboard_callback = tf.keras.callbacks.TensorBoard(log_dir=log_dir, histogram_freq=1)"
      ],
      "metadata": {
        "id": "OSZ1iIYTIJzg"
      },
      "execution_count": null,
      "outputs": []
    },
    {
      "cell_type": "code",
      "source": [
        "x_train, x_temp, y_train, y_temp = train_test_split(x, y, test_size=0.3, random_state=1)\n",
        "x_val, x_test, y_val, y_test = train_test_split(x_temp, y_temp, test_size=0.5, random_state=1)\n",
        "model_lstm.fit(x_train, y_train, epochs=50, batch_size=64, validation_data=(x_val, y_val), callbacks=[tensorboard_callback])"
      ],
      "metadata": {
        "id": "OpTdvNzSI3vA"
      },
      "execution_count": null,
      "outputs": []
    },
    {
      "cell_type": "markdown",
      "source": [
        "#Test Accuracy"
      ],
      "metadata": {
        "id": "M8NQncXO5wY7"
      }
    },
    {
      "cell_type": "code",
      "source": [
        "accuracy = model_lstm.evaluate(x_test, y_test)\n",
        "print('Accuracy: %.2f' % (accuracy[1]*100))"
      ],
      "metadata": {
        "colab": {
          "base_uri": "https://localhost:8080/"
        },
        "id": "GSCahsqsf4Fd",
        "outputId": "05d5fb73-4ded-450e-a017-f5362c11e5e1"
      },
      "execution_count": null,
      "outputs": [
        {
          "output_type": "stream",
          "name": "stdout",
          "text": [
            "33/33 [==============================] - 5s 66ms/step - loss: 2.8372 - accuracy: 0.5551\n",
            "Accuracy: 55.51\n"
          ]
        }
      ]
    },
    {
      "cell_type": "markdown",
      "source": [
        "#SAve this lstm model"
      ],
      "metadata": {
        "id": "yNt1saK350jr"
      }
    },
    {
      "cell_type": "code",
      "source": [
        "import pickle\n",
        "\n",
        "# Assuming 'model' is your trained model\n",
        "model_filename = 'lstm9855.pkl'\n",
        "with open(model_filename, 'wb') as model_file:\n",
        "    pickle.dump(model_lstm, model_file)\n",
        "model_lstm.save_weights(\"lstm9855.weights.h5\")\n"
      ],
      "metadata": {
        "id": "1oD6-VBPM8L2"
      },
      "execution_count": null,
      "outputs": []
    },
    {
      "cell_type": "markdown",
      "source": [
        "#Create TensorBoard Link"
      ],
      "metadata": {
        "id": "a1UyQ8Uc5z3T"
      }
    },
    {
      "cell_type": "code",
      "source": [
        "!tensorboard dev upload \\\n",
        "  --logdir \"/content/logs/lstm_final\" \\\n",
        "  --name \"model_lstm\" \\\n",
        "  --description \"using lstm\" \\\n",
        "  --one_shot"
      ],
      "metadata": {
        "colab": {
          "base_uri": "https://localhost:8080/"
        },
        "id": "svv8xOKoRxRQ",
        "outputId": "c284e263-ba97-44d8-dd28-832f3b21cccf"
      },
      "execution_count": null,
      "outputs": [
        {
          "output_type": "stream",
          "name": "stdout",
          "text": [
            "2023-09-10 13:59:31.584975: W tensorflow/compiler/tf2tensorrt/utils/py_utils.cc:38] TF-TRT Warning: Could not find TensorRT\n",
            "\n",
            "New experiment created. View your TensorBoard at: https://tensorboard.dev/experiment/vhyPPpdYQcyPoJ7sQCqzRQ/\n",
            "\n",
            "\u001b[1m[2023-09-10T13:59:34]\u001b[0m Started scanning logdir.\n",
            "\u001b[1m[2023-09-10T13:59:35]\u001b[0m Total uploaded: 300 scalars, 300 tensors (215.3 kB), 1 binary objects (223.4 kB)\n",
            "\u001b[1m[2023-09-10T13:59:35]\u001b[0m Done scanning logdir.\n",
            "\n",
            "\n",
            "Done. View your TensorBoard at https://tensorboard.dev/experiment/vhyPPpdYQcyPoJ7sQCqzRQ/\n"
          ]
        }
      ]
    },
    {
      "cell_type": "markdown",
      "source": [
        "#Using LSTM and DropOut model"
      ],
      "metadata": {
        "id": "DXdmX-i_6DzU"
      }
    },
    {
      "cell_type": "code",
      "source": [
        "model_lstmD = tf.keras.Sequential([\n",
        "    tf.keras.layers.Embedding(input_dim=len(tokenizer.word_index) + 1, output_dim=300, input_length=x.shape[1]),\n",
        "    tf.keras.layers.LSTM(units=128),  # You can try LSTM or GRU\n",
        "    tf.keras.layers.Dropout(0.5),  # Dropout for regularization\n",
        "    tf.keras.layers.Dense(units=len(label_dict), activation='softmax')\n",
        "])\n",
        "\n",
        "model_lstmD.compile(loss='sparse_categorical_crossentropy', optimizer='adam', metrics=['accuracy'])\n",
        "\n",
        "# Train-test split\n",
        "x_train, x_temp, y_train, y_temp = train_test_split(x, y, test_size=0.3, random_state=8)\n",
        "x_val, x_test, y_val, y_test = train_test_split(x_temp, y_temp, test_size=0.5, random_state=8)\n",
        "\n",
        "\n",
        "log_dir = \"logs/lstmD/\" + datetime.datetime.now().strftime(\"%Y%m%d-%H%M%S\")\n",
        "tensorboard_callback = tf.keras.callbacks.TensorBoard(log_dir=log_dir, histogram_freq=1)\n",
        "\n",
        "\n",
        "history = model_lstmD.fit(x_train, y_train, epochs=50, batch_size=32, validation_data=(x_val, y_val), callbacks=[tensorboard_callback])"
      ],
      "metadata": {
        "colab": {
          "base_uri": "https://localhost:8080/"
        },
        "id": "Sg0TSUSafK3q",
        "outputId": "9cefad20-c664-4e6b-cf6d-a7260e392bb9"
      },
      "execution_count": null,
      "outputs": [
        {
          "output_type": "stream",
          "name": "stdout",
          "text": [
            "Epoch 1/50\n",
            "150/150 [==============================] - 65s 416ms/step - loss: 1.4943 - accuracy: 0.4546 - val_loss: 1.1464 - val_accuracy: 0.6113\n",
            "Epoch 2/50\n",
            "150/150 [==============================] - 60s 397ms/step - loss: 0.9824 - accuracy: 0.6622 - val_loss: 1.0262 - val_accuracy: 0.6689\n",
            "Epoch 3/50\n",
            "150/150 [==============================] - 52s 345ms/step - loss: 0.6825 - accuracy: 0.7683 - val_loss: 1.1411 - val_accuracy: 0.6367\n",
            "Epoch 4/50\n",
            "150/150 [==============================] - 48s 322ms/step - loss: 0.4824 - accuracy: 0.8428 - val_loss: 1.2212 - val_accuracy: 0.6221\n",
            "Epoch 5/50\n",
            "150/150 [==============================] - 49s 329ms/step - loss: 0.3657 - accuracy: 0.8889 - val_loss: 1.2907 - val_accuracy: 0.6348\n",
            "Epoch 6/50\n",
            "150/150 [==============================] - 49s 326ms/step - loss: 0.2642 - accuracy: 0.9194 - val_loss: 1.5188 - val_accuracy: 0.6094\n",
            "Epoch 7/50\n",
            "150/150 [==============================] - 50s 334ms/step - loss: 0.2145 - accuracy: 0.9341 - val_loss: 1.5124 - val_accuracy: 0.6270\n",
            "Epoch 8/50\n",
            "150/150 [==============================] - 50s 331ms/step - loss: 0.1887 - accuracy: 0.9439 - val_loss: 1.6086 - val_accuracy: 0.5996\n",
            "Epoch 9/50\n",
            "150/150 [==============================] - 48s 324ms/step - loss: 0.1591 - accuracy: 0.9494 - val_loss: 1.7307 - val_accuracy: 0.6191\n",
            "Epoch 10/50\n",
            "150/150 [==============================] - 52s 347ms/step - loss: 0.1418 - accuracy: 0.9527 - val_loss: 1.6769 - val_accuracy: 0.6133\n",
            "Epoch 11/50\n",
            "150/150 [==============================] - 50s 333ms/step - loss: 0.1366 - accuracy: 0.9590 - val_loss: 1.8291 - val_accuracy: 0.5898\n",
            "Epoch 12/50\n",
            "150/150 [==============================] - 50s 330ms/step - loss: 0.1024 - accuracy: 0.9680 - val_loss: 2.0040 - val_accuracy: 0.5938\n",
            "Epoch 13/50\n",
            "150/150 [==============================] - 49s 324ms/step - loss: 0.1046 - accuracy: 0.9642 - val_loss: 1.9828 - val_accuracy: 0.5781\n",
            "Epoch 14/50\n",
            "150/150 [==============================] - 52s 346ms/step - loss: 0.0885 - accuracy: 0.9684 - val_loss: 2.1353 - val_accuracy: 0.5850\n",
            "Epoch 15/50\n",
            "150/150 [==============================] - 50s 331ms/step - loss: 0.0874 - accuracy: 0.9697 - val_loss: 2.2428 - val_accuracy: 0.5791\n",
            "Epoch 16/50\n",
            "150/150 [==============================] - 50s 331ms/step - loss: 0.0798 - accuracy: 0.9713 - val_loss: 2.3130 - val_accuracy: 0.5771\n",
            "Epoch 17/50\n",
            "150/150 [==============================] - 48s 323ms/step - loss: 0.0688 - accuracy: 0.9761 - val_loss: 2.3725 - val_accuracy: 0.5928\n",
            "Epoch 18/50\n",
            "150/150 [==============================] - 50s 331ms/step - loss: 0.0583 - accuracy: 0.9766 - val_loss: 2.4022 - val_accuracy: 0.5840\n",
            "Epoch 19/50\n",
            "150/150 [==============================] - 50s 332ms/step - loss: 0.0599 - accuracy: 0.9768 - val_loss: 2.2962 - val_accuracy: 0.5859\n",
            "Epoch 20/50\n",
            "150/150 [==============================] - 51s 343ms/step - loss: 0.0588 - accuracy: 0.9763 - val_loss: 2.6603 - val_accuracy: 0.6064\n",
            "Epoch 21/50\n",
            "150/150 [==============================] - 48s 323ms/step - loss: 0.0797 - accuracy: 0.9715 - val_loss: 2.4140 - val_accuracy: 0.5889\n",
            "Epoch 22/50\n",
            "150/150 [==============================] - 51s 338ms/step - loss: 0.0586 - accuracy: 0.9763 - val_loss: 2.6420 - val_accuracy: 0.5771\n",
            "Epoch 23/50\n",
            "150/150 [==============================] - 51s 338ms/step - loss: 0.0523 - accuracy: 0.9774 - val_loss: 2.5585 - val_accuracy: 0.5674\n",
            "Epoch 24/50\n",
            "150/150 [==============================] - 50s 335ms/step - loss: 0.0679 - accuracy: 0.9751 - val_loss: 2.6232 - val_accuracy: 0.5869\n",
            "Epoch 25/50\n",
            "150/150 [==============================] - 48s 322ms/step - loss: 0.0499 - accuracy: 0.9797 - val_loss: 2.6653 - val_accuracy: 0.5869\n",
            "Epoch 26/50\n",
            "150/150 [==============================] - 49s 324ms/step - loss: 0.0414 - accuracy: 0.9824 - val_loss: 2.7510 - val_accuracy: 0.5771\n",
            "Epoch 27/50\n",
            "150/150 [==============================] - 51s 341ms/step - loss: 0.0447 - accuracy: 0.9807 - val_loss: 2.8108 - val_accuracy: 0.5820\n",
            "Epoch 28/50\n",
            "150/150 [==============================] - 49s 326ms/step - loss: 0.0414 - accuracy: 0.9818 - val_loss: 2.9367 - val_accuracy: 0.5693\n",
            "Epoch 29/50\n",
            "150/150 [==============================] - 49s 328ms/step - loss: 0.0575 - accuracy: 0.9774 - val_loss: 2.7669 - val_accuracy: 0.5742\n",
            "Epoch 30/50\n",
            "150/150 [==============================] - 48s 322ms/step - loss: 0.0568 - accuracy: 0.9763 - val_loss: 2.7811 - val_accuracy: 0.5908\n",
            "Epoch 31/50\n",
            "150/150 [==============================] - 52s 348ms/step - loss: 0.0635 - accuracy: 0.9763 - val_loss: 2.7660 - val_accuracy: 0.5762\n",
            "Epoch 32/50\n",
            "150/150 [==============================] - 53s 355ms/step - loss: 0.0417 - accuracy: 0.9841 - val_loss: 2.9064 - val_accuracy: 0.5752\n",
            "Epoch 33/50\n",
            "150/150 [==============================] - 49s 324ms/step - loss: 0.0396 - accuracy: 0.9818 - val_loss: 2.8769 - val_accuracy: 0.5977\n",
            "Epoch 34/50\n",
            "150/150 [==============================] - 49s 329ms/step - loss: 0.0412 - accuracy: 0.9820 - val_loss: 2.9778 - val_accuracy: 0.5830\n",
            "Epoch 35/50\n",
            "150/150 [==============================] - 49s 323ms/step - loss: 0.0290 - accuracy: 0.9853 - val_loss: 3.1189 - val_accuracy: 0.5918\n",
            "Epoch 36/50\n",
            "150/150 [==============================] - 48s 322ms/step - loss: 0.0287 - accuracy: 0.9853 - val_loss: 3.1659 - val_accuracy: 0.5811\n",
            "Epoch 37/50\n",
            "150/150 [==============================] - 52s 343ms/step - loss: 0.0287 - accuracy: 0.9849 - val_loss: 3.2031 - val_accuracy: 0.5830\n",
            "Epoch 38/50\n",
            "150/150 [==============================] - 49s 326ms/step - loss: 0.0335 - accuracy: 0.9845 - val_loss: 3.1499 - val_accuracy: 0.5869\n",
            "Epoch 39/50\n",
            "150/150 [==============================] - 50s 331ms/step - loss: 0.0476 - accuracy: 0.9799 - val_loss: 3.0071 - val_accuracy: 0.5830\n",
            "Epoch 40/50\n",
            "150/150 [==============================] - 49s 324ms/step - loss: 0.0489 - accuracy: 0.9818 - val_loss: 2.9265 - val_accuracy: 0.5869\n",
            "Epoch 41/50\n",
            "150/150 [==============================] - 52s 350ms/step - loss: 0.0403 - accuracy: 0.9820 - val_loss: 2.9297 - val_accuracy: 0.5879\n",
            "Epoch 42/50\n",
            "150/150 [==============================] - 59s 391ms/step - loss: 0.0400 - accuracy: 0.9816 - val_loss: 3.0542 - val_accuracy: 0.5889\n",
            "Epoch 43/50\n",
            "150/150 [==============================] - 48s 321ms/step - loss: 0.0333 - accuracy: 0.9837 - val_loss: 3.0903 - val_accuracy: 0.5918\n",
            "Epoch 44/50\n",
            "150/150 [==============================] - 50s 330ms/step - loss: 0.0283 - accuracy: 0.9849 - val_loss: 3.1712 - val_accuracy: 0.5742\n",
            "Epoch 45/50\n",
            "150/150 [==============================] - 48s 323ms/step - loss: 0.0264 - accuracy: 0.9847 - val_loss: 3.3308 - val_accuracy: 0.5830\n",
            "Epoch 46/50\n",
            "150/150 [==============================] - 49s 330ms/step - loss: 0.0246 - accuracy: 0.9860 - val_loss: 3.3379 - val_accuracy: 0.5801\n",
            "Epoch 47/50\n",
            "150/150 [==============================] - 50s 334ms/step - loss: 0.0256 - accuracy: 0.9851 - val_loss: 3.4623 - val_accuracy: 0.5762\n",
            "Epoch 48/50\n",
            "150/150 [==============================] - 52s 346ms/step - loss: 0.0260 - accuracy: 0.9851 - val_loss: 3.5282 - val_accuracy: 0.5762\n",
            "Epoch 49/50\n",
            "150/150 [==============================] - 48s 322ms/step - loss: 0.0252 - accuracy: 0.9856 - val_loss: 3.5810 - val_accuracy: 0.5771\n",
            "Epoch 50/50\n",
            "150/150 [==============================] - 50s 334ms/step - loss: 0.0231 - accuracy: 0.9860 - val_loss: 3.6755 - val_accuracy: 0.5820\n"
          ]
        }
      ]
    },
    {
      "cell_type": "markdown",
      "source": [
        "#check model accuracy"
      ],
      "metadata": {
        "id": "ZBjZ8k5h6Xvi"
      }
    },
    {
      "cell_type": "code",
      "source": [
        "accuracy = model_lstmD.evaluate(x_test, y_test)\n",
        "print('Accuracy: %.2f' % (accuracy[1]*100))"
      ],
      "metadata": {
        "colab": {
          "base_uri": "https://localhost:8080/"
        },
        "id": "5foJiuPm6a8r",
        "outputId": "8c84c9b0-364e-4be7-8a0c-a12825898ddb"
      },
      "execution_count": null,
      "outputs": [
        {
          "output_type": "stream",
          "name": "stdout",
          "text": [
            "33/33 [==============================] - 3s 81ms/step - loss: 3.9795 - accuracy: 0.5356\n",
            "Accuracy: 53.56\n"
          ]
        }
      ]
    },
    {
      "cell_type": "markdown",
      "source": [
        "#Save this lstm and dropout model"
      ],
      "metadata": {
        "id": "Jf1sKz6E6Lor"
      }
    },
    {
      "cell_type": "code",
      "source": [
        "import pickle\n",
        "\n",
        "# Assuming 'model' is your trained model\n",
        "model_filename = 'lstmdrop9856bv65.pkl'\n",
        "with open(model_filename, 'wb') as model_file:\n",
        "    pickle.dump(model_lstmD, model_file)\n",
        "model_lstmD.save_weights(\"lstmdrop9856bv65.weights.h5\")\n"
      ],
      "metadata": {
        "id": "NSZRfmWyucFx"
      },
      "execution_count": null,
      "outputs": []
    },
    {
      "cell_type": "markdown",
      "source": [
        "#TensorBoard Link"
      ],
      "metadata": {
        "id": "JJA-k5ak6P5E"
      }
    },
    {
      "cell_type": "code",
      "source": [
        "!tensorboard dev upload \\\n",
        "  --logdir \"/content/logs/lstmD\" \\\n",
        "  --name \"simplernn\" \\\n",
        "  --description \"simple model \" \\\n",
        "  --one_shot"
      ],
      "metadata": {
        "colab": {
          "base_uri": "https://localhost:8080/"
        },
        "id": "FbU0Mpswuymr",
        "outputId": "1bdbbbc5-82ab-45df-beff-e8998ff64531"
      },
      "execution_count": null,
      "outputs": [
        {
          "output_type": "stream",
          "name": "stdout",
          "text": [
            "2023-09-10 14:43:02.214231: W tensorflow/compiler/tf2tensorrt/utils/py_utils.cc:38] TF-TRT Warning: Could not find TensorRT\n",
            "\n",
            "New experiment created. View your TensorBoard at: https://tensorboard.dev/experiment/mRJboYRpSXC1fxo5Kl7pmQ/\n",
            "\n",
            "\u001b[1m[2023-09-10T14:43:04]\u001b[0m Started scanning logdir.\n",
            "\u001b[1m[2023-09-10T14:43:05]\u001b[0m Total uploaded: 300 scalars, 300 tensors (215.3 kB), 1 binary objects (227.7 kB)\n",
            "\u001b[1m[2023-09-10T14:43:05]\u001b[0m Done scanning logdir.\n",
            "\n",
            "\n",
            "Done. View your TensorBoard at https://tensorboard.dev/experiment/mRJboYRpSXC1fxo5Kl7pmQ/\n"
          ]
        }
      ]
    },
    {
      "cell_type": "markdown",
      "source": [
        "#Create Simple RNN model"
      ],
      "metadata": {
        "id": "7Wt_uuVC6ttc"
      }
    },
    {
      "cell_type": "code",
      "source": [
        "model_simplernnd = tf.keras.Sequential([\n",
        "    tf.keras.layers.Embedding(input_dim=len(tokenizer.word_index) + 1, output_dim=300, input_length=x.shape[1]),\n",
        "    tf.keras.layers.SimpleRNN(units=128),  # SimpleRNN layer\n",
        "    tf.keras.layers.Dropout(0.5),\n",
        "    tf.keras.layers.Dense(units=len(label_dict), activation='softmax')\n",
        "])\n",
        "\n",
        "model_simplernnd.compile(loss='sparse_categorical_crossentropy', optimizer='adam', metrics=['accuracy'])\n",
        "\n",
        "# Train-test split\n",
        "x_train, x_temp, y_train, y_temp = train_test_split(x, y, test_size=0.3, random_state=8)\n",
        "x_val, x_test, y_val, y_test = train_test_split(x_temp, y_temp, test_size=0.5, random_state=8)\n",
        "\n",
        "\n",
        "log_dir = \"logs/simplrnnD/\" + datetime.datetime.now().strftime(\"%Y%m%d-%H%M%S\")\n",
        "tensorboard_callback = tf.keras.callbacks.TensorBoard(log_dir=log_dir, histogram_freq=1)\n",
        "\n",
        "\n",
        "history = model_simplernnd.fit(x_train, y_train, epochs=50, batch_size=32, validation_data=(x_val, y_val), callbacks=[tensorboard_callback])"
      ],
      "metadata": {
        "colab": {
          "base_uri": "https://localhost:8080/"
        },
        "id": "J7-InKRj6sZL",
        "outputId": "144fc99f-c446-484c-c8c2-38ac3faed1ea"
      },
      "execution_count": null,
      "outputs": [
        {
          "output_type": "stream",
          "name": "stdout",
          "text": [
            "Epoch 1/100\n",
            "150/150 [==============================] - 20s 118ms/step - loss: 1.6481 - accuracy: 0.3937 - val_loss: 1.3123 - val_accuracy: 0.5537\n",
            "Epoch 2/100\n",
            "150/150 [==============================] - 19s 127ms/step - loss: 0.9870 - accuracy: 0.6722 - val_loss: 1.2540 - val_accuracy: 0.5908\n",
            "Epoch 3/100\n",
            "150/150 [==============================] - 17s 115ms/step - loss: 0.4966 - accuracy: 0.8487 - val_loss: 1.3695 - val_accuracy: 0.5615\n",
            "Epoch 4/100\n",
            "150/150 [==============================] - 18s 123ms/step - loss: 0.2953 - accuracy: 0.9194 - val_loss: 1.7596 - val_accuracy: 0.4668\n",
            "Epoch 5/100\n",
            "150/150 [==============================] - 17s 116ms/step - loss: 0.5119 - accuracy: 0.8437 - val_loss: 1.6814 - val_accuracy: 0.5479\n",
            "Epoch 6/100\n",
            "150/150 [==============================] - 17s 112ms/step - loss: 0.1637 - accuracy: 0.9567 - val_loss: 1.7607 - val_accuracy: 0.5371\n",
            "Epoch 7/100\n",
            "150/150 [==============================] - 17s 113ms/step - loss: 0.1161 - accuracy: 0.9709 - val_loss: 1.8288 - val_accuracy: 0.5254\n",
            "Epoch 8/100\n",
            "150/150 [==============================] - 17s 115ms/step - loss: 0.0899 - accuracy: 0.9766 - val_loss: 1.8610 - val_accuracy: 0.5352\n",
            "Epoch 9/100\n",
            "150/150 [==============================] - 19s 124ms/step - loss: 0.0784 - accuracy: 0.9789 - val_loss: 1.9740 - val_accuracy: 0.5234\n",
            "Epoch 10/100\n",
            "150/150 [==============================] - 17s 113ms/step - loss: 0.0727 - accuracy: 0.9818 - val_loss: 2.0021 - val_accuracy: 0.5215\n",
            "Epoch 11/100\n",
            "150/150 [==============================] - 17s 113ms/step - loss: 0.0637 - accuracy: 0.9807 - val_loss: 2.0185 - val_accuracy: 0.5283\n",
            "Epoch 12/100\n",
            "150/150 [==============================] - 17s 113ms/step - loss: 0.0588 - accuracy: 0.9845 - val_loss: 2.0612 - val_accuracy: 0.5176\n",
            "Epoch 13/100\n",
            "150/150 [==============================] - 18s 121ms/step - loss: 0.0613 - accuracy: 0.9803 - val_loss: 2.1723 - val_accuracy: 0.4863\n",
            "Epoch 14/100\n",
            "150/150 [==============================] - 18s 117ms/step - loss: 0.0864 - accuracy: 0.9743 - val_loss: 2.0834 - val_accuracy: 0.5195\n",
            "Epoch 15/100\n",
            "150/150 [==============================] - 17s 114ms/step - loss: 0.0609 - accuracy: 0.9841 - val_loss: 2.1774 - val_accuracy: 0.5303\n",
            "Epoch 16/100\n",
            "150/150 [==============================] - 19s 125ms/step - loss: 0.0570 - accuracy: 0.9830 - val_loss: 2.2661 - val_accuracy: 0.5049\n",
            "Epoch 17/100\n",
            "150/150 [==============================] - 18s 123ms/step - loss: 0.0610 - accuracy: 0.9826 - val_loss: 2.2766 - val_accuracy: 0.5215\n",
            "Epoch 18/100\n",
            "150/150 [==============================] - 17s 114ms/step - loss: 0.0587 - accuracy: 0.9824 - val_loss: 2.3073 - val_accuracy: 0.5137\n",
            "Epoch 19/100\n",
            "150/150 [==============================] - 17s 113ms/step - loss: 0.0523 - accuracy: 0.9843 - val_loss: 2.3453 - val_accuracy: 0.5068\n",
            "Epoch 20/100\n",
            "150/150 [==============================] - 17s 113ms/step - loss: 0.0459 - accuracy: 0.9849 - val_loss: 2.3316 - val_accuracy: 0.5137\n",
            "Epoch 21/100\n",
            "150/150 [==============================] - 17s 114ms/step - loss: 0.0583 - accuracy: 0.9839 - val_loss: 2.4340 - val_accuracy: 0.5059\n",
            "Epoch 22/100\n",
            "150/150 [==============================] - 19s 124ms/step - loss: 0.0561 - accuracy: 0.9843 - val_loss: 2.4704 - val_accuracy: 0.5117\n",
            "Epoch 23/100\n",
            "150/150 [==============================] - 17s 114ms/step - loss: 0.0480 - accuracy: 0.9847 - val_loss: 2.4401 - val_accuracy: 0.5020\n",
            "Epoch 24/100\n",
            "150/150 [==============================] - 17s 114ms/step - loss: 0.0524 - accuracy: 0.9826 - val_loss: 2.4275 - val_accuracy: 0.5049\n",
            "Epoch 25/100\n",
            "150/150 [==============================] - 17s 115ms/step - loss: 0.0562 - accuracy: 0.9824 - val_loss: 2.5729 - val_accuracy: 0.5059\n",
            "Epoch 26/100\n",
            "150/150 [==============================] - 18s 121ms/step - loss: 0.0520 - accuracy: 0.9862 - val_loss: 2.4544 - val_accuracy: 0.4805\n",
            "Epoch 27/100\n",
            "150/150 [==============================] - 17s 115ms/step - loss: 0.0531 - accuracy: 0.9868 - val_loss: 2.5519 - val_accuracy: 0.5117\n",
            "Epoch 28/100\n",
            "150/150 [==============================] - 17s 114ms/step - loss: 0.0438 - accuracy: 0.9847 - val_loss: 2.5137 - val_accuracy: 0.5107\n",
            "Epoch 29/100\n",
            "150/150 [==============================] - 17s 114ms/step - loss: 0.1909 - accuracy: 0.9391 - val_loss: 1.5618 - val_accuracy: 0.5586\n",
            "Epoch 30/100\n",
            "150/150 [==============================] - 17s 111ms/step - loss: 0.4236 - accuracy: 0.8669 - val_loss: 2.3753 - val_accuracy: 0.5264\n",
            "Epoch 31/100\n",
            "150/150 [==============================] - 20s 134ms/step - loss: 0.1429 - accuracy: 0.9508 - val_loss: 2.5112 - val_accuracy: 0.5205\n",
            "Epoch 32/100\n",
            "150/150 [==============================] - 17s 111ms/step - loss: 0.0764 - accuracy: 0.9751 - val_loss: 2.4691 - val_accuracy: 0.5244\n",
            "Epoch 33/100\n",
            "150/150 [==============================] - 17s 114ms/step - loss: 0.0579 - accuracy: 0.9812 - val_loss: 2.5121 - val_accuracy: 0.5166\n",
            "Epoch 34/100\n",
            "150/150 [==============================] - 17s 114ms/step - loss: 0.0488 - accuracy: 0.9828 - val_loss: 2.5610 - val_accuracy: 0.5215\n",
            "Epoch 35/100\n",
            "150/150 [==============================] - 18s 122ms/step - loss: 0.0468 - accuracy: 0.9847 - val_loss: 2.5909 - val_accuracy: 0.5186\n",
            "Epoch 36/100\n",
            "150/150 [==============================] - 18s 122ms/step - loss: 0.0390 - accuracy: 0.9843 - val_loss: 2.5858 - val_accuracy: 0.5137\n",
            "Epoch 37/100\n",
            "150/150 [==============================] - 20s 135ms/step - loss: 0.0406 - accuracy: 0.9858 - val_loss: 2.6368 - val_accuracy: 0.5117\n",
            "Epoch 38/100\n",
            "150/150 [==============================] - 19s 128ms/step - loss: 0.0491 - accuracy: 0.9833 - val_loss: 2.6237 - val_accuracy: 0.5137\n",
            "Epoch 39/100\n",
            "150/150 [==============================] - 18s 117ms/step - loss: 0.0433 - accuracy: 0.9866 - val_loss: 2.6492 - val_accuracy: 0.5098\n",
            "Epoch 40/100\n",
            "150/150 [==============================] - 17s 115ms/step - loss: 0.0353 - accuracy: 0.9870 - val_loss: 2.6848 - val_accuracy: 0.5186\n",
            "Epoch 41/100\n",
            "150/150 [==============================] - 17s 114ms/step - loss: 0.0376 - accuracy: 0.9851 - val_loss: 2.7207 - val_accuracy: 0.5029\n",
            "Epoch 42/100\n",
            "150/150 [==============================] - 18s 120ms/step - loss: 0.0432 - accuracy: 0.9858 - val_loss: 2.7167 - val_accuracy: 0.4932\n",
            "Epoch 43/100\n",
            "150/150 [==============================] - 18s 119ms/step - loss: 0.0399 - accuracy: 0.9864 - val_loss: 2.7329 - val_accuracy: 0.5039\n",
            "Epoch 44/100\n",
            "150/150 [==============================] - 17s 115ms/step - loss: 0.0420 - accuracy: 0.9864 - val_loss: 2.6151 - val_accuracy: 0.5215\n",
            "Epoch 45/100\n",
            "150/150 [==============================] - 17s 114ms/step - loss: 0.0362 - accuracy: 0.9883 - val_loss: 2.6775 - val_accuracy: 0.5020\n",
            "Epoch 46/100\n",
            "150/150 [==============================] - 20s 132ms/step - loss: 0.0453 - accuracy: 0.9851 - val_loss: 2.6688 - val_accuracy: 0.5039\n",
            "Epoch 47/100\n",
            "150/150 [==============================] - 17s 116ms/step - loss: 0.0392 - accuracy: 0.9870 - val_loss: 2.6951 - val_accuracy: 0.4971\n",
            "Epoch 48/100\n",
            "150/150 [==============================] - 17s 113ms/step - loss: 0.0413 - accuracy: 0.9858 - val_loss: 2.7324 - val_accuracy: 0.4980\n",
            "Epoch 49/100\n",
            "150/150 [==============================] - 17s 114ms/step - loss: 0.0339 - accuracy: 0.9881 - val_loss: 2.7413 - val_accuracy: 0.4824\n",
            "Epoch 50/100\n",
            "150/150 [==============================] - 17s 114ms/step - loss: 0.0329 - accuracy: 0.9885 - val_loss: 2.7480 - val_accuracy: 0.5088\n",
            "Epoch 51/100\n",
            "150/150 [==============================] - 19s 124ms/step - loss: 0.0360 - accuracy: 0.9889 - val_loss: 2.8051 - val_accuracy: 0.4766\n",
            "Epoch 52/100\n",
            "150/150 [==============================] - 17s 114ms/step - loss: 0.0511 - accuracy: 0.9830 - val_loss: 2.8781 - val_accuracy: 0.4873\n",
            "Epoch 53/100\n",
            "150/150 [==============================] - 17s 113ms/step - loss: 0.0512 - accuracy: 0.9835 - val_loss: 2.7347 - val_accuracy: 0.5186\n",
            "Epoch 54/100\n",
            "150/150 [==============================] - 17s 114ms/step - loss: 0.0490 - accuracy: 0.9843 - val_loss: 2.6960 - val_accuracy: 0.5039\n",
            "Epoch 55/100\n",
            "150/150 [==============================] - 19s 124ms/step - loss: 0.0447 - accuracy: 0.9864 - val_loss: 2.6920 - val_accuracy: 0.5127\n",
            "Epoch 56/100\n",
            "150/150 [==============================] - 18s 117ms/step - loss: 0.0639 - accuracy: 0.9799 - val_loss: 2.6623 - val_accuracy: 0.5264\n",
            "Epoch 57/100\n",
            "150/150 [==============================] - 17s 114ms/step - loss: 0.0562 - accuracy: 0.9818 - val_loss: 2.9027 - val_accuracy: 0.4805\n",
            "Epoch 58/100\n",
            "150/150 [==============================] - 17s 116ms/step - loss: 0.0551 - accuracy: 0.9826 - val_loss: 2.8324 - val_accuracy: 0.5166\n",
            "Epoch 59/100\n",
            "150/150 [==============================] - 18s 121ms/step - loss: 0.0462 - accuracy: 0.9862 - val_loss: 2.8200 - val_accuracy: 0.5078\n",
            "Epoch 60/100\n",
            "150/150 [==============================] - 18s 119ms/step - loss: 0.0412 - accuracy: 0.9862 - val_loss: 2.8641 - val_accuracy: 0.5000\n",
            "Epoch 61/100\n",
            "150/150 [==============================] - 19s 125ms/step - loss: 0.0376 - accuracy: 0.9887 - val_loss: 2.8010 - val_accuracy: 0.5146\n",
            "Epoch 62/100\n",
            "150/150 [==============================] - 17s 115ms/step - loss: 0.0374 - accuracy: 0.9866 - val_loss: 2.8205 - val_accuracy: 0.4873\n",
            "Epoch 63/100\n",
            "150/150 [==============================] - 18s 123ms/step - loss: 0.0642 - accuracy: 0.9770 - val_loss: 3.0188 - val_accuracy: 0.4785\n",
            "Epoch 64/100\n",
            "150/150 [==============================] - 18s 118ms/step - loss: 0.0968 - accuracy: 0.9688 - val_loss: 2.7638 - val_accuracy: 0.4863\n",
            "Epoch 65/100\n",
            "150/150 [==============================] - 17s 114ms/step - loss: 0.0717 - accuracy: 0.9761 - val_loss: 2.8621 - val_accuracy: 0.5020\n",
            "Epoch 66/100\n",
            "150/150 [==============================] - 17s 114ms/step - loss: 0.0486 - accuracy: 0.9839 - val_loss: 2.9331 - val_accuracy: 0.4814\n",
            "Epoch 67/100\n",
            "150/150 [==============================] - 17s 117ms/step - loss: 0.0512 - accuracy: 0.9833 - val_loss: 3.0545 - val_accuracy: 0.4775\n",
            "Epoch 68/100\n",
            "150/150 [==============================] - 18s 121ms/step - loss: 0.0454 - accuracy: 0.9866 - val_loss: 2.9666 - val_accuracy: 0.4990\n",
            "Epoch 69/100\n",
            "150/150 [==============================] - 17s 114ms/step - loss: 0.0385 - accuracy: 0.9866 - val_loss: 3.0643 - val_accuracy: 0.4775\n",
            "Epoch 70/100\n",
            "150/150 [==============================] - 17s 116ms/step - loss: 0.0294 - accuracy: 0.9893 - val_loss: 3.0571 - val_accuracy: 0.4795\n",
            "Epoch 71/100\n",
            "150/150 [==============================] - 17s 115ms/step - loss: 0.0271 - accuracy: 0.9900 - val_loss: 3.0179 - val_accuracy: 0.5059\n",
            "Epoch 72/100\n",
            "150/150 [==============================] - 19s 126ms/step - loss: 0.0352 - accuracy: 0.9883 - val_loss: 3.0437 - val_accuracy: 0.5068\n",
            "Epoch 73/100\n",
            "150/150 [==============================] - 17s 115ms/step - loss: 0.0354 - accuracy: 0.9870 - val_loss: 3.0798 - val_accuracy: 0.5020\n",
            "Epoch 74/100\n",
            "150/150 [==============================] - 17s 114ms/step - loss: 0.0336 - accuracy: 0.9893 - val_loss: 3.0182 - val_accuracy: 0.5049\n",
            "Epoch 75/100\n",
            "150/150 [==============================] - 17s 115ms/step - loss: 0.0327 - accuracy: 0.9877 - val_loss: 3.0819 - val_accuracy: 0.4775\n",
            "Epoch 76/100\n",
            "150/150 [==============================] - 19s 128ms/step - loss: 0.0327 - accuracy: 0.9883 - val_loss: 2.9850 - val_accuracy: 0.4941\n",
            "Epoch 77/100\n",
            "150/150 [==============================] - 19s 125ms/step - loss: 0.0369 - accuracy: 0.9862 - val_loss: 2.9980 - val_accuracy: 0.5029\n",
            "Epoch 78/100\n",
            "150/150 [==============================] - 17s 115ms/step - loss: 0.0291 - accuracy: 0.9891 - val_loss: 2.9924 - val_accuracy: 0.5068\n",
            "Epoch 79/100\n",
            "150/150 [==============================] - 17s 116ms/step - loss: 0.0350 - accuracy: 0.9885 - val_loss: 2.9551 - val_accuracy: 0.5088\n",
            "Epoch 80/100\n",
            "150/150 [==============================] - 17s 116ms/step - loss: 0.0459 - accuracy: 0.9851 - val_loss: 3.1267 - val_accuracy: 0.4766\n",
            "Epoch 81/100\n",
            "150/150 [==============================] - 19s 125ms/step - loss: 0.0472 - accuracy: 0.9843 - val_loss: 2.9577 - val_accuracy: 0.4951\n",
            "Epoch 82/100\n",
            "150/150 [==============================] - 18s 117ms/step - loss: 0.0431 - accuracy: 0.9856 - val_loss: 3.0261 - val_accuracy: 0.4854\n",
            "Epoch 83/100\n",
            "150/150 [==============================] - 17s 115ms/step - loss: 0.0390 - accuracy: 0.9864 - val_loss: 2.9580 - val_accuracy: 0.4775\n",
            "Epoch 84/100\n",
            "150/150 [==============================] - 17s 114ms/step - loss: 0.0729 - accuracy: 0.9766 - val_loss: 2.8300 - val_accuracy: 0.4863\n",
            "Epoch 85/100\n",
            "150/150 [==============================] - 18s 123ms/step - loss: 0.0529 - accuracy: 0.9805 - val_loss: 3.0337 - val_accuracy: 0.4863\n",
            "Epoch 86/100\n",
            "150/150 [==============================] - 18s 119ms/step - loss: 0.0503 - accuracy: 0.9826 - val_loss: 3.0575 - val_accuracy: 0.4805\n",
            "Epoch 87/100\n",
            "150/150 [==============================] - 17s 116ms/step - loss: 0.0405 - accuracy: 0.9860 - val_loss: 3.0904 - val_accuracy: 0.4785\n",
            "Epoch 88/100\n",
            "150/150 [==============================] - 17s 116ms/step - loss: 0.0328 - accuracy: 0.9887 - val_loss: 3.0396 - val_accuracy: 0.5088\n",
            "Epoch 89/100\n",
            "150/150 [==============================] - 18s 122ms/step - loss: 0.0296 - accuracy: 0.9897 - val_loss: 3.1009 - val_accuracy: 0.5244\n",
            "Epoch 90/100\n",
            "150/150 [==============================] - 19s 124ms/step - loss: 0.0298 - accuracy: 0.9877 - val_loss: 3.1186 - val_accuracy: 0.5068\n",
            "Epoch 91/100\n",
            "150/150 [==============================] - 19s 126ms/step - loss: 0.0291 - accuracy: 0.9891 - val_loss: 3.1094 - val_accuracy: 0.5049\n",
            "Epoch 92/100\n",
            "150/150 [==============================] - 17s 115ms/step - loss: 0.0281 - accuracy: 0.9874 - val_loss: 3.0541 - val_accuracy: 0.5303\n",
            "Epoch 93/100\n",
            "150/150 [==============================] - 19s 127ms/step - loss: 0.0303 - accuracy: 0.9895 - val_loss: 3.0946 - val_accuracy: 0.5010\n",
            "Epoch 94/100\n",
            "150/150 [==============================] - 17s 115ms/step - loss: 0.0350 - accuracy: 0.9866 - val_loss: 3.1575 - val_accuracy: 0.5039\n",
            "Epoch 95/100\n",
            "150/150 [==============================] - 17s 115ms/step - loss: 0.0308 - accuracy: 0.9883 - val_loss: 3.0506 - val_accuracy: 0.5137\n",
            "Epoch 96/100\n",
            "150/150 [==============================] - 17s 115ms/step - loss: 0.0337 - accuracy: 0.9870 - val_loss: 3.1176 - val_accuracy: 0.5166\n",
            "Epoch 97/100\n",
            "150/150 [==============================] - 18s 123ms/step - loss: 0.0337 - accuracy: 0.9877 - val_loss: 3.1853 - val_accuracy: 0.4795\n",
            "Epoch 98/100\n",
            "150/150 [==============================] - 18s 118ms/step - loss: 0.0358 - accuracy: 0.9877 - val_loss: 3.1250 - val_accuracy: 0.4971\n",
            "Epoch 99/100\n",
            "150/150 [==============================] - 17s 115ms/step - loss: 0.0327 - accuracy: 0.9883 - val_loss: 3.1544 - val_accuracy: 0.4971\n",
            "Epoch 100/100\n",
            "150/150 [==============================] - 17s 115ms/step - loss: 0.0305 - accuracy: 0.9891 - val_loss: 3.1757 - val_accuracy: 0.4834\n"
          ]
        }
      ]
    },
    {
      "cell_type": "markdown",
      "source": [
        "#check model Accuracy"
      ],
      "metadata": {
        "id": "DR_u59Bc7SBD"
      }
    },
    {
      "cell_type": "code",
      "source": [
        "accuracy = model_simplernnd.evaluate(x_test, y_test)\n",
        "print('Accuracy: %.2f' % (accuracy[1]*100))"
      ],
      "metadata": {
        "colab": {
          "base_uri": "https://localhost:8080/"
        },
        "id": "gYwouKrX7UA9",
        "outputId": "c0444682-f7dc-4162-e242-6023764945b3"
      },
      "execution_count": null,
      "outputs": [
        {
          "output_type": "stream",
          "name": "stdout",
          "text": [
            "33/33 [==============================] - 1s 18ms/step - loss: 3.4254 - accuracy: 0.4829\n",
            "Accuracy: 48.29\n"
          ]
        }
      ]
    },
    {
      "cell_type": "markdown",
      "source": [
        "#save this model"
      ],
      "metadata": {
        "id": "llY_s7Rd7iWc"
      }
    },
    {
      "cell_type": "code",
      "source": [
        "import pickle\n",
        "\n",
        "# Assuming 'model' is your trained model\n",
        "model_filename = 'simplernn.pkl'\n",
        "with open(model_filename, 'wb') as model_file:\n",
        "    pickle.dump(model_simplernnd, model_file)\n",
        "model_simplernnd.save_weights(\"simplernn.weights.h5\")\n"
      ],
      "metadata": {
        "id": "eVI8vzj_7kGE"
      },
      "execution_count": null,
      "outputs": []
    },
    {
      "cell_type": "markdown",
      "source": [
        "#TensorBoard link"
      ],
      "metadata": {
        "id": "ckSY9x7L7nKT"
      }
    },
    {
      "cell_type": "code",
      "source": [
        "!tensorboard dev upload \\\n",
        "  --logdir \"/content/logs/fit2\" \\\n",
        "  --name \"simplernn\" \\\n",
        "  --description \"simple model \" \\\n",
        "  --one_shot"
      ],
      "metadata": {
        "id": "HozQ7skC7mbV"
      },
      "execution_count": null,
      "outputs": []
    },
    {
      "cell_type": "markdown",
      "source": [
        "#Only simple rnn use"
      ],
      "metadata": {
        "id": "U4viHe2279lU"
      }
    },
    {
      "cell_type": "code",
      "source": [
        "model_simplernn = tf.keras.Sequential([\n",
        "    tf.keras.layers.Embedding(input_dim=len(tokenizer.word_index) + 1, output_dim=300, input_length=x.shape[1]),\n",
        "    tf.keras.layers.SimpleRNN(units=128),  # SimpleRNN layer\n",
        "    tf.keras.layers.Dense(units=len(label_dict), activation='softmax')\n",
        "])\n",
        "\n",
        "model_simplernn.compile(loss='sparse_categorical_crossentropy', optimizer='adam', metrics=['accuracy'])\n",
        "\n",
        "# Train-test split\n",
        "x_train, x_temp, y_train, y_temp = train_test_split(x, y, test_size=0.3, random_state=8)\n",
        "x_val, x_test, y_val, y_test = train_test_split(x_temp, y_temp, test_size=0.5, random_state=8)\n",
        "\n",
        "\n",
        "log_dir = \"logs/fit2/\" + datetime.datetime.now().strftime(\"%Y%m%d-%H%M%S\")\n",
        "tensorboard_callback = tf.keras.callbacks.TensorBoard(log_dir=log_dir, histogram_freq=1)\n",
        "\n",
        "\n",
        "history = model_simplernn.fit(x_train, y_train, epochs=50, batch_size=32, validation_data=(x_val, y_val), callbacks=[tensorboard_callback])"
      ],
      "metadata": {
        "id": "JINpqxsu76ak"
      },
      "execution_count": null,
      "outputs": []
    },
    {
      "cell_type": "markdown",
      "source": [
        "#check Accuracy"
      ],
      "metadata": {
        "id": "RGvQPdpG8HSO"
      }
    },
    {
      "cell_type": "code",
      "source": [
        "accuracy = model_simplernn.evaluate(x_test, y_test)\n",
        "print('Accuracy: %.2f' % (accuracy[1]*100))"
      ],
      "metadata": {
        "id": "-X5_KpGI8K9c"
      },
      "execution_count": null,
      "outputs": []
    },
    {
      "cell_type": "markdown",
      "source": [
        "#save this model\n"
      ],
      "metadata": {
        "id": "XjiTka6Z8VCk"
      }
    },
    {
      "cell_type": "code",
      "source": [
        "import pickle\n",
        "\n",
        "# Assuming 'model' is your trained model\n",
        "model_filename = 'lstmdrop9856bv65.pkl'\n",
        "with open(model_filename, 'wb') as model_file:\n",
        "    pickle.dump(model_simplernnd, model_file)\n",
        "model.save_weights(\"lstmdrop9856bv65.weights.h5\")\n"
      ],
      "metadata": {
        "id": "rD2ypv6L8W5t"
      },
      "execution_count": null,
      "outputs": []
    },
    {
      "cell_type": "markdown",
      "source": [
        "#TensorBoard link"
      ],
      "metadata": {
        "id": "djBS1Q8x8ZrE"
      }
    },
    {
      "cell_type": "code",
      "source": [
        "!tensorboard dev upload \\\n",
        "  --logdir \"/content/logs/fit2\" \\\n",
        "  --name \"simplernn\" \\\n",
        "  --description \"simple model \" \\\n",
        "  --one_shot"
      ],
      "metadata": {
        "id": "zeGDW2tv8Y7s"
      },
      "execution_count": null,
      "outputs": []
    },
    {
      "cell_type": "markdown",
      "source": [],
      "metadata": {
        "id": "Qto1vsx88kDL"
      }
    },
    {
      "cell_type": "markdown",
      "source": [],
      "metadata": {
        "id": "1uobBqOR8kGE"
      }
    },
    {
      "cell_type": "markdown",
      "source": [],
      "metadata": {
        "id": "O3fxfSUI8kJH"
      }
    },
    {
      "cell_type": "markdown",
      "source": [],
      "metadata": {
        "id": "aDKbSV9C8kMD"
      }
    },
    {
      "cell_type": "markdown",
      "source": [],
      "metadata": {
        "id": "G4Lc_tvv8kPY"
      }
    },
    {
      "cell_type": "markdown",
      "source": [],
      "metadata": {
        "id": "Enx6nKmd8kRt"
      }
    },
    {
      "cell_type": "markdown",
      "source": [],
      "metadata": {
        "id": "_GZIK2P28kU0"
      }
    },
    {
      "cell_type": "markdown",
      "source": [],
      "metadata": {
        "id": "Ue0G8s6O8kXT"
      }
    },
    {
      "cell_type": "markdown",
      "source": [],
      "metadata": {
        "id": "40qBLEoC8kZz"
      }
    },
    {
      "cell_type": "markdown",
      "source": [],
      "metadata": {
        "id": "7tXI2j8C8kcc"
      }
    },
    {
      "cell_type": "markdown",
      "source": [],
      "metadata": {
        "id": "DT-EHWpr8ke5"
      }
    },
    {
      "cell_type": "markdown",
      "source": [
        "#Model testing place"
      ],
      "metadata": {
        "id": "SvSX6A_T8khl"
      }
    },
    {
      "cell_type": "code",
      "source": [
        "# Sample text data\n",
        "text_data = [\"টাকা কেটে নিয়া যায়\"]\n",
        "\n",
        "# Tokenize and preprocess the text data\n",
        "x = tokenizer.texts_to_sequences(text_data)\n",
        "padded_x = pad_sequences(x, maxlen=125, padding='post', truncating='post')\n",
        "\n",
        "# Make predictions using the model\n",
        "predictions = model.predict(padded_x)\n",
        "\n",
        "# Assuming 'predictions' contains the probabilities for each class\n",
        "# You can convert it to class labels or do any post-processing you need\n",
        "predicted_labels = [unique_labels[np.argmax(pred)] for pred in predictions]\n",
        "\n",
        "# Print the predicted labels\n",
        "print(predicted_labels)\n",
        "predictions"
      ],
      "metadata": {
        "colab": {
          "base_uri": "https://localhost:8080/"
        },
        "id": "oAZmiFJBwm1B",
        "outputId": "f87bf876-e3c4-4493-e409-fe556ad02e09"
      },
      "execution_count": null,
      "outputs": [
        {
          "output_type": "stream",
          "name": "stdout",
          "text": [
            "1/1 [==============================] - 0s 23ms/step\n",
            "['AV']\n"
          ]
        },
        {
          "output_type": "execute_result",
          "data": {
            "text/plain": [
              "array([[0.11510694, 0.12558587, 0.10400359, 0.24369948, 0.12488133,\n",
              "        0.10449511, 0.06441039, 0.11781734]], dtype=float32)"
            ]
          },
          "metadata": {},
          "execution_count": 37
        }
      ]
    },
    {
      "cell_type": "code",
      "source": [
        "! gdown --id 1x2Egg1g3UoHWInk1SBvCoDbDu0GLB7Nq"
      ],
      "metadata": {
        "id": "yQm-YxCziLJJ",
        "colab": {
          "base_uri": "https://localhost:8080/"
        },
        "outputId": "37b43be2-b5d8-4148-c959-e589a857a336"
      },
      "execution_count": null,
      "outputs": [
        {
          "output_type": "stream",
          "name": "stdout",
          "text": [
            "/usr/local/lib/python3.10/dist-packages/gdown/cli.py:121: FutureWarning: Option `--id` was deprecated in version 4.3.1 and will be removed in 5.0. You don't need to pass it anymore to use a file ID.\n",
            "  warnings.warn(\n",
            "Downloading...\n",
            "From: https://drive.google.com/uc?id=1x2Egg1g3UoHWInk1SBvCoDbDu0GLB7Nq\n",
            "To: /content/IMRAN TEST.csv\n",
            "100% 178k/178k [00:00<00:00, 87.3MB/s]\n"
          ]
        }
      ]
    },
    {
      "cell_type": "code",
      "source": [
        "df_test = pd.read_csv(\"/content/IMRAN TEST.csv\")\n",
        "# Define regex pattern\n",
        "pattern = r'[^\\w\\s]'\n",
        "\n",
        "# Apply regex pattern to text column\n",
        "df_test[\"comments\"] = df_test['comments'].str.replace(pattern, '')\n",
        "\n",
        "labls = ['CNI','PR','DP','NS','AV','IS','MFS','CCI']\n",
        "# Remove specified values from the \"labels\" column\n",
        "df_test = df_test.loc[df_test['labels'].isin(labls)]\n",
        "\n",
        "tokenizer = Tokenizer()\n",
        "tokenizer.fit_on_texts(df_test[\"comments\"])\n",
        "\n",
        "x = tokenizer.texts_to_sequences(df_test[\"comments\"])\n",
        "\n",
        "from tensorflow.keras.preprocessing.sequence import pad_sequences\n",
        "\n",
        "\n",
        "\n",
        "label_dict = {}\n",
        "unique_labels = df_test['labels'].unique()\n",
        "for index, label in enumerate(unique_labels):\n",
        "    label_dict[label] = index\n",
        "\n",
        "df_test['numerical_label'] = df_test['labels'].map(label_dict)\n",
        "\n",
        "padded_test_data = pad_sequences(x, maxlen=125, padding='post', truncating='post')\n",
        "y = df_test[\"numerical_label\"]\n"
      ],
      "metadata": {
        "colab": {
          "base_uri": "https://localhost:8080/"
        },
        "id": "mMlF03MiGDDn",
        "outputId": "3f5fd37d-35bf-4d5f-85de-5f0ba07c0e78"
      },
      "execution_count": null,
      "outputs": [
        {
          "output_type": "stream",
          "name": "stderr",
          "text": [
            "<ipython-input-34-26927fd6bc7e>:6: FutureWarning: The default value of regex will change from True to False in a future version.\n",
            "  df_test[\"comments\"] = df_test['comments'].str.replace(pattern, '')\n"
          ]
        }
      ]
    },
    {
      "cell_type": "code",
      "source": [
        "df_test = pd.read_csv(\"/content/IMRAN TEST.csv\")"
      ],
      "metadata": {
        "id": "Nu9IosfOGhTe"
      },
      "execution_count": null,
      "outputs": []
    },
    {
      "cell_type": "code",
      "source": [
        "test_predictions = model.predict(padded_test_data)\n",
        "\n",
        "# Convert the predicted numerical labels back to their original class labels\n",
        "predicted_labels = [unique_labels[np.argmax(pred)] for pred in test_predictions]\n",
        "\n",
        "# Calculate the accuracy of the model on the test data\n",
        "from sklearn.metrics import accuracy_score\n",
        "accuracy = accuracy_score(y, predicted_labels)\n",
        "\n",
        "print(f\"Test Accuracy: {accuracy * 100:.2f}%\")"
      ],
      "metadata": {
        "colab": {
          "base_uri": "https://localhost:8080/"
        },
        "id": "0ECSHl7mGXoZ",
        "outputId": "07d0d9af-cc52-4166-a75c-a84072bff74d"
      },
      "execution_count": null,
      "outputs": [
        {
          "output_type": "stream",
          "name": "stdout",
          "text": [
            "28/28 [==============================] - 4s 128ms/step\n",
            "Test Accuracy: 0.00%\n"
          ]
        },
        {
          "output_type": "stream",
          "name": "stderr",
          "text": [
            "/usr/local/lib/python3.10/dist-packages/sklearn/metrics/_classification.py:227: FutureWarning: elementwise comparison failed; returning scalar instead, but in the future will perform elementwise comparison\n",
            "  score = y_true == y_pred\n"
          ]
        }
      ]
    },
    {
      "cell_type": "code",
      "source": [
        "df['labels'] = '__label__' + df['labels'].astype(str)\n",
        "df['comments_label'] = df['labels'] + ' ' + df['comments']\n",
        "from sklearn.model_selection import train_test_split\n",
        "\n",
        "train, test = train_test_split(df, test_size=0.3)\n",
        "train.to_csv(\"comments.train\", columns=[\"comments_label\"], index=False, header=False)\n",
        "test.to_csv(\"comments.test\", columns=[\"comments_label\"], index=False, header=False)\n",
        "\n",
        "import fasttext\n",
        "\n",
        "model = fasttext.train_supervised(input=\"/content/comments.train\")\n",
        "model.test(\"/content/comments.test\")"
      ],
      "metadata": {
        "colab": {
          "base_uri": "https://localhost:8080/"
        },
        "id": "shcsWlLyKWNC",
        "outputId": "8ee7d59c-84f9-4617-85f1-a4f3815831ed"
      },
      "execution_count": null,
      "outputs": [
        {
          "output_type": "stream",
          "name": "stderr",
          "text": [
            "<ipython-input-88-9f82f17e4ac7>:1: SettingWithCopyWarning: \n",
            "A value is trying to be set on a copy of a slice from a DataFrame.\n",
            "Try using .loc[row_indexer,col_indexer] = value instead\n",
            "\n",
            "See the caveats in the documentation: https://pandas.pydata.org/pandas-docs/stable/user_guide/indexing.html#returning-a-view-versus-a-copy\n",
            "  df['labels'] = '__label__' + df['labels'].astype(str)\n",
            "<ipython-input-88-9f82f17e4ac7>:2: SettingWithCopyWarning: \n",
            "A value is trying to be set on a copy of a slice from a DataFrame.\n",
            "Try using .loc[row_indexer,col_indexer] = value instead\n",
            "\n",
            "See the caveats in the documentation: https://pandas.pydata.org/pandas-docs/stable/user_guide/indexing.html#returning-a-view-versus-a-copy\n",
            "  df['comments_label'] = df['labels'] + ' ' + df['comments']\n"
          ]
        },
        {
          "output_type": "execute_result",
          "data": {
            "text/plain": [
              "(2027, 0.6472619634928466, 0.6472619634928466)"
            ]
          },
          "metadata": {},
          "execution_count": 88
        }
      ]
    },
    {
      "cell_type": "code",
      "source": [
        "model.test(\"/content/comments.test\")"
      ],
      "metadata": {
        "colab": {
          "base_uri": "https://localhost:8080/"
        },
        "id": "tWqE4f52PVaO",
        "outputId": "ba7eb666-c78e-499e-b020-9cd67e0ecef1"
      },
      "execution_count": null,
      "outputs": [
        {
          "output_type": "execute_result",
          "data": {
            "text/plain": [
              "(2027, 0.6472619634928466, 0.6472619634928466)"
            ]
          },
          "metadata": {},
          "execution_count": 90
        }
      ]
    },
    {
      "cell_type": "code",
      "source": [
        "model.predict(padded_test_data)"
      ],
      "metadata": {
        "colab": {
          "base_uri": "https://localhost:8080/",
          "height": 321
        },
        "id": "poj6WEHYPrwW",
        "outputId": "464221fd-dbde-4428-b6e7-4ae080fbc336"
      },
      "execution_count": null,
      "outputs": [
        {
          "output_type": "error",
          "ename": "AttributeError",
          "evalue": "ignored",
          "traceback": [
            "\u001b[0;31m---------------------------------------------------------------------------\u001b[0m",
            "\u001b[0;31mAttributeError\u001b[0m                            Traceback (most recent call last)",
            "\u001b[0;32m<ipython-input-93-3572a274eae0>\u001b[0m in \u001b[0;36m<cell line: 1>\u001b[0;34m()\u001b[0m\n\u001b[0;32m----> 1\u001b[0;31m \u001b[0mmodel\u001b[0m\u001b[0;34m.\u001b[0m\u001b[0mpredict\u001b[0m\u001b[0;34m(\u001b[0m\u001b[0mpadded_test_data\u001b[0m\u001b[0;34m)\u001b[0m\u001b[0;34m\u001b[0m\u001b[0;34m\u001b[0m\u001b[0m\n\u001b[0m",
            "\u001b[0;32m/usr/local/lib/python3.10/dist-packages/fasttext/FastText.py\u001b[0m in \u001b[0;36mpredict\u001b[0;34m(self, text, k, threshold, on_unicode_error)\u001b[0m\n\u001b[1;32m    223\u001b[0m             \u001b[0;32mreturn\u001b[0m \u001b[0mall_labels\u001b[0m\u001b[0;34m,\u001b[0m \u001b[0mall_probs\u001b[0m\u001b[0;34m\u001b[0m\u001b[0;34m\u001b[0m\u001b[0m\n\u001b[1;32m    224\u001b[0m         \u001b[0;32melse\u001b[0m\u001b[0;34m:\u001b[0m\u001b[0;34m\u001b[0m\u001b[0;34m\u001b[0m\u001b[0m\n\u001b[0;32m--> 225\u001b[0;31m             \u001b[0mtext\u001b[0m \u001b[0;34m=\u001b[0m \u001b[0mcheck\u001b[0m\u001b[0;34m(\u001b[0m\u001b[0mtext\u001b[0m\u001b[0;34m)\u001b[0m\u001b[0;34m\u001b[0m\u001b[0;34m\u001b[0m\u001b[0m\n\u001b[0m\u001b[1;32m    226\u001b[0m             \u001b[0mpredictions\u001b[0m \u001b[0;34m=\u001b[0m \u001b[0mself\u001b[0m\u001b[0;34m.\u001b[0m\u001b[0mf\u001b[0m\u001b[0;34m.\u001b[0m\u001b[0mpredict\u001b[0m\u001b[0;34m(\u001b[0m\u001b[0mtext\u001b[0m\u001b[0;34m,\u001b[0m \u001b[0mk\u001b[0m\u001b[0;34m,\u001b[0m \u001b[0mthreshold\u001b[0m\u001b[0;34m,\u001b[0m \u001b[0mon_unicode_error\u001b[0m\u001b[0;34m)\u001b[0m\u001b[0;34m\u001b[0m\u001b[0;34m\u001b[0m\u001b[0m\n\u001b[1;32m    227\u001b[0m             \u001b[0;32mif\u001b[0m \u001b[0mpredictions\u001b[0m\u001b[0;34m:\u001b[0m\u001b[0;34m\u001b[0m\u001b[0;34m\u001b[0m\u001b[0m\n",
            "\u001b[0;32m/usr/local/lib/python3.10/dist-packages/fasttext/FastText.py\u001b[0m in \u001b[0;36mcheck\u001b[0;34m(entry)\u001b[0m\n\u001b[1;32m    209\u001b[0m \u001b[0;34m\u001b[0m\u001b[0m\n\u001b[1;32m    210\u001b[0m         \u001b[0;32mdef\u001b[0m \u001b[0mcheck\u001b[0m\u001b[0;34m(\u001b[0m\u001b[0mentry\u001b[0m\u001b[0;34m)\u001b[0m\u001b[0;34m:\u001b[0m\u001b[0;34m\u001b[0m\u001b[0;34m\u001b[0m\u001b[0m\n\u001b[0;32m--> 211\u001b[0;31m             \u001b[0;32mif\u001b[0m \u001b[0mentry\u001b[0m\u001b[0;34m.\u001b[0m\u001b[0mfind\u001b[0m\u001b[0;34m(\u001b[0m\u001b[0;34m'\\n'\u001b[0m\u001b[0;34m)\u001b[0m \u001b[0;34m!=\u001b[0m \u001b[0;34m-\u001b[0m\u001b[0;36m1\u001b[0m\u001b[0;34m:\u001b[0m\u001b[0;34m\u001b[0m\u001b[0;34m\u001b[0m\u001b[0m\n\u001b[0m\u001b[1;32m    212\u001b[0m                 raise ValueError(\n\u001b[1;32m    213\u001b[0m                     \u001b[0;34m\"predict processes one line at a time (remove \\'\\\\n\\')\"\u001b[0m\u001b[0;34m\u001b[0m\u001b[0;34m\u001b[0m\u001b[0m\n",
            "\u001b[0;31mAttributeError\u001b[0m: 'numpy.ndarray' object has no attribute 'find'"
          ]
        }
      ]
    },
    {
      "cell_type": "code",
      "source": [
        "model.save_model(\"fasttext64.bin\")\n"
      ],
      "metadata": {
        "id": "zsOEVVk0P7BO"
      },
      "execution_count": null,
      "outputs": []
    },
    {
      "cell_type": "code",
      "source": [
        "import fasttext\n",
        "new_comments_data = pd.read_csv(\"/content/IMRAN TEST.csv\")\n",
        "# Load your pretrained model\n",
        "model = fasttext.load_model(\"/content/fasttext64.bin\")\n",
        "\n",
        "# Preprocess your new comments data (replace 'new_comments_data' with your actual data)\n",
        "new_comments_data['labels'] = '__label__' + new_comments_data['labels'].astype(str)\n",
        "new_comments_data['comments_label'] = new_comments_data['labels'] + ' ' + new_comments_data['comments']\n",
        "\n",
        "# Load and preprocess the new comments data\n",
        "new_comments_data = open(\"new_comments_data.txt\", \"r\").readlines()\n",
        "\n",
        "# Remove newline characters and split into labels and comments\n",
        "new_comments = [line.strip().split(' ', 1)[1] for line in new_comments_data]\n",
        "\n",
        "# Predict labels for the new comments\n",
        "predicted_labels = [model.predict(comment)[0][0] for comment in new_comments]\n",
        "\n",
        "# Now you have the predicted labels for your new comments\n",
        "\n",
        "# Calculate accuracy if you have ground truth labels for the new data\n",
        "# Assuming you have the true labels for the new comments in 'true_labels'\n",
        "accuracy = (np.array(predicted_labels) == np.array(true_labels)).mean()\n",
        "print(f\"Accuracy: {accuracy * 100:.2f}%\")"
      ],
      "metadata": {
        "colab": {
          "base_uri": "https://localhost:8080/"
        },
        "id": "7F3YY5mYRC-m",
        "outputId": "e7dbca4b-9fad-4ed2-9b1f-a1d449b50141"
      },
      "execution_count": null,
      "outputs": [
        {
          "output_type": "stream",
          "name": "stdout",
          "text": [
            "Accuracy: 9.90%\n"
          ]
        },
        {
          "output_type": "stream",
          "name": "stderr",
          "text": [
            "Warning : `load_model` does not return WordVectorModel or SupervisedModel any more, but a `FastText` object which is very similar.\n"
          ]
        }
      ]
    },
    {
      "cell_type": "code",
      "source": [
        "# Assuming you have prepared your new comments data in 'new_comments_data.txt'\n",
        "# Each line in the file should be in the format: '__label__LABEL text_of_comment'\n",
        "\n",
        "# Load the trained FastText model\n",
        "model = fasttext.load_model(\"your_trained_model.bin\")\n",
        "\n",
        "# Load and preprocess the new comments data\n",
        "new_comments_data = open(\"new_comments_data.txt\", \"r\").readlines()\n",
        "\n",
        "# Remove newline characters and split into labels and comments\n",
        "new_comments = [line.strip().split(' ', 1)[1] for line in new_comments_data]\n",
        "\n",
        "# Predict labels for the new comments\n",
        "predicted_labels = [model.predict(comment)[0][0] for comment in new_comments]\n",
        "\n",
        "# Now you have the predicted labels for your new comments\n",
        "\n",
        "# Calculate accuracy if you have ground truth labels for the new data\n",
        "# Assuming you have the true labels for the new comments in 'true_labels'\n",
        "accuracy = (np.array(predicted_labels) == np.array(true_labels)).mean()\n",
        "print(f\"Accuracy: {accuracy * 100:.2f}%\")\n"
      ],
      "metadata": {
        "id": "KVqXMMhDSIFu"
      },
      "execution_count": null,
      "outputs": []
    }
  ]
}